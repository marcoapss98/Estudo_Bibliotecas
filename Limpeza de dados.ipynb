{
 "cells": [
  {
   "cell_type": "markdown",
   "id": "9deee9b3-c24f-42d8-a87b-a06f7ab34e29",
   "metadata": {},
   "source": [
    "# Sobre as anotações\n",
    "Esses códigos foram realizados junto ao curso disponível no kaggle: https://www.kaggle.com/learn/data-cleaning\n",
    "\n",
    "Para melhor contextualização, basta acessar minhas anotações pessoais realizadas ao longo do curso: https://docs.google.com/document/d/1UZBWbrb9XTxueuLO1kAIBJaduiI6eSpC4qqe9s81OW0/edit?usp=sharing"
   ]
  },
  {
   "cell_type": "code",
   "execution_count": 1,
   "id": "c6f4eaec-35e1-4e8f-8be7-9ad17032a137",
   "metadata": {},
   "outputs": [],
   "source": [
    "import numpy as np\n",
    "import pandas as pd"
   ]
  },
  {
   "cell_type": "markdown",
   "id": "a4484851-66e0-4b56-91fb-fd9a52cf1ffa",
   "metadata": {
    "tags": []
   },
   "source": [
    "# Primeiros passos"
   ]
  },
  {
   "cell_type": "markdown",
   "id": "ee6e827b-bbbc-4260-a1f0-0ae8c585cf68",
   "metadata": {
    "tags": []
   },
   "source": [
    "## Importação dos dados"
   ]
  },
  {
   "cell_type": "code",
   "execution_count": 2,
   "id": "b258e732-d2e8-47ba-abb5-357d903c8d82",
   "metadata": {
    "jupyter": {
     "source_hidden": true
    },
    "tags": []
   },
   "outputs": [],
   "source": [
    "nfl = r\"C:\\Users\\marco\\Dropbox\\PC\\Desktop\\NFL Play by Play 2009-2016 (v3).csv\""
   ]
  },
  {
   "cell_type": "code",
   "execution_count": 3,
   "id": "f78d0cba-f687-4077-a0f7-8f3d5957648c",
   "metadata": {
    "tags": []
   },
   "outputs": [
    {
     "data": {
      "text/html": [
       "<div>\n",
       "<style scoped>\n",
       "    .dataframe tbody tr th:only-of-type {\n",
       "        vertical-align: middle;\n",
       "    }\n",
       "\n",
       "    .dataframe tbody tr th {\n",
       "        vertical-align: top;\n",
       "    }\n",
       "\n",
       "    .dataframe thead th {\n",
       "        text-align: right;\n",
       "    }\n",
       "</style>\n",
       "<table border=\"1\" class=\"dataframe\">\n",
       "  <thead>\n",
       "    <tr style=\"text-align: right;\">\n",
       "      <th></th>\n",
       "      <th>Date</th>\n",
       "      <th>GameID</th>\n",
       "      <th>Drive</th>\n",
       "      <th>qtr</th>\n",
       "      <th>down</th>\n",
       "      <th>time</th>\n",
       "      <th>TimeUnder</th>\n",
       "      <th>TimeSecs</th>\n",
       "      <th>PlayTimeDiff</th>\n",
       "      <th>SideofField</th>\n",
       "      <th>...</th>\n",
       "      <th>yacEPA</th>\n",
       "      <th>Home_WP_pre</th>\n",
       "      <th>Away_WP_pre</th>\n",
       "      <th>Home_WP_post</th>\n",
       "      <th>Away_WP_post</th>\n",
       "      <th>Win_Prob</th>\n",
       "      <th>WPA</th>\n",
       "      <th>airWPA</th>\n",
       "      <th>yacWPA</th>\n",
       "      <th>Season</th>\n",
       "    </tr>\n",
       "  </thead>\n",
       "  <tbody>\n",
       "    <tr>\n",
       "      <th>0</th>\n",
       "      <td>2009-09-10</td>\n",
       "      <td>2009091000</td>\n",
       "      <td>1</td>\n",
       "      <td>1</td>\n",
       "      <td>NaN</td>\n",
       "      <td>15:00</td>\n",
       "      <td>15</td>\n",
       "      <td>3600.0</td>\n",
       "      <td>0.0</td>\n",
       "      <td>TEN</td>\n",
       "      <td>...</td>\n",
       "      <td>NaN</td>\n",
       "      <td>0.485675</td>\n",
       "      <td>0.514325</td>\n",
       "      <td>0.546433</td>\n",
       "      <td>0.453567</td>\n",
       "      <td>0.485675</td>\n",
       "      <td>0.060758</td>\n",
       "      <td>NaN</td>\n",
       "      <td>NaN</td>\n",
       "      <td>2009</td>\n",
       "    </tr>\n",
       "    <tr>\n",
       "      <th>1</th>\n",
       "      <td>2009-09-10</td>\n",
       "      <td>2009091000</td>\n",
       "      <td>1</td>\n",
       "      <td>1</td>\n",
       "      <td>1.0</td>\n",
       "      <td>14:53</td>\n",
       "      <td>15</td>\n",
       "      <td>3593.0</td>\n",
       "      <td>7.0</td>\n",
       "      <td>PIT</td>\n",
       "      <td>...</td>\n",
       "      <td>1.146076</td>\n",
       "      <td>0.546433</td>\n",
       "      <td>0.453567</td>\n",
       "      <td>0.551088</td>\n",
       "      <td>0.448912</td>\n",
       "      <td>0.546433</td>\n",
       "      <td>0.004655</td>\n",
       "      <td>-0.032244</td>\n",
       "      <td>0.036899</td>\n",
       "      <td>2009</td>\n",
       "    </tr>\n",
       "    <tr>\n",
       "      <th>2</th>\n",
       "      <td>2009-09-10</td>\n",
       "      <td>2009091000</td>\n",
       "      <td>1</td>\n",
       "      <td>1</td>\n",
       "      <td>2.0</td>\n",
       "      <td>14:16</td>\n",
       "      <td>15</td>\n",
       "      <td>3556.0</td>\n",
       "      <td>37.0</td>\n",
       "      <td>PIT</td>\n",
       "      <td>...</td>\n",
       "      <td>NaN</td>\n",
       "      <td>0.551088</td>\n",
       "      <td>0.448912</td>\n",
       "      <td>0.510793</td>\n",
       "      <td>0.489207</td>\n",
       "      <td>0.551088</td>\n",
       "      <td>-0.040295</td>\n",
       "      <td>NaN</td>\n",
       "      <td>NaN</td>\n",
       "      <td>2009</td>\n",
       "    </tr>\n",
       "    <tr>\n",
       "      <th>3</th>\n",
       "      <td>2009-09-10</td>\n",
       "      <td>2009091000</td>\n",
       "      <td>1</td>\n",
       "      <td>1</td>\n",
       "      <td>3.0</td>\n",
       "      <td>13:35</td>\n",
       "      <td>14</td>\n",
       "      <td>3515.0</td>\n",
       "      <td>41.0</td>\n",
       "      <td>PIT</td>\n",
       "      <td>...</td>\n",
       "      <td>-5.031425</td>\n",
       "      <td>0.510793</td>\n",
       "      <td>0.489207</td>\n",
       "      <td>0.461217</td>\n",
       "      <td>0.538783</td>\n",
       "      <td>0.510793</td>\n",
       "      <td>-0.049576</td>\n",
       "      <td>0.106663</td>\n",
       "      <td>-0.156239</td>\n",
       "      <td>2009</td>\n",
       "    </tr>\n",
       "    <tr>\n",
       "      <th>4</th>\n",
       "      <td>2009-09-10</td>\n",
       "      <td>2009091000</td>\n",
       "      <td>1</td>\n",
       "      <td>1</td>\n",
       "      <td>4.0</td>\n",
       "      <td>13:27</td>\n",
       "      <td>14</td>\n",
       "      <td>3507.0</td>\n",
       "      <td>8.0</td>\n",
       "      <td>PIT</td>\n",
       "      <td>...</td>\n",
       "      <td>NaN</td>\n",
       "      <td>0.461217</td>\n",
       "      <td>0.538783</td>\n",
       "      <td>0.558929</td>\n",
       "      <td>0.441071</td>\n",
       "      <td>0.461217</td>\n",
       "      <td>0.097712</td>\n",
       "      <td>NaN</td>\n",
       "      <td>NaN</td>\n",
       "      <td>2009</td>\n",
       "    </tr>\n",
       "  </tbody>\n",
       "</table>\n",
       "<p>5 rows × 102 columns</p>\n",
       "</div>"
      ],
      "text/plain": [
       "         Date      GameID  Drive  qtr  down   time  TimeUnder  TimeSecs  \\\n",
       "0  2009-09-10  2009091000      1    1   NaN  15:00         15    3600.0   \n",
       "1  2009-09-10  2009091000      1    1   1.0  14:53         15    3593.0   \n",
       "2  2009-09-10  2009091000      1    1   2.0  14:16         15    3556.0   \n",
       "3  2009-09-10  2009091000      1    1   3.0  13:35         14    3515.0   \n",
       "4  2009-09-10  2009091000      1    1   4.0  13:27         14    3507.0   \n",
       "\n",
       "   PlayTimeDiff SideofField  ...    yacEPA  Home_WP_pre  Away_WP_pre  \\\n",
       "0           0.0         TEN  ...       NaN     0.485675     0.514325   \n",
       "1           7.0         PIT  ...  1.146076     0.546433     0.453567   \n",
       "2          37.0         PIT  ...       NaN     0.551088     0.448912   \n",
       "3          41.0         PIT  ... -5.031425     0.510793     0.489207   \n",
       "4           8.0         PIT  ...       NaN     0.461217     0.538783   \n",
       "\n",
       "   Home_WP_post  Away_WP_post  Win_Prob       WPA    airWPA    yacWPA  Season  \n",
       "0      0.546433      0.453567  0.485675  0.060758       NaN       NaN    2009  \n",
       "1      0.551088      0.448912  0.546433  0.004655 -0.032244  0.036899    2009  \n",
       "2      0.510793      0.489207  0.551088 -0.040295       NaN       NaN    2009  \n",
       "3      0.461217      0.538783  0.510793 -0.049576  0.106663 -0.156239    2009  \n",
       "4      0.558929      0.441071  0.461217  0.097712       NaN       NaN    2009  \n",
       "\n",
       "[5 rows x 102 columns]"
      ]
     },
     "execution_count": 3,
     "metadata": {},
     "output_type": "execute_result"
    }
   ],
   "source": [
    "dados = pd.read_csv(nfl, low_memory=False)\n",
    "dados.head()"
   ]
  },
  {
   "cell_type": "markdown",
   "id": "4be93dcd-f62d-4259-8035-6887dac874be",
   "metadata": {
    "tags": []
   },
   "source": [
    "### Contando valores nulos"
   ]
  },
  {
   "cell_type": "code",
   "execution_count": 4,
   "id": "137626cf-c741-4f0c-a2c8-b2e402f6a517",
   "metadata": {
    "tags": []
   },
   "outputs": [
    {
     "data": {
      "text/plain": [
       "Date                0\n",
       "GameID              0\n",
       "Drive               0\n",
       "qtr                 0\n",
       "down            54218\n",
       "time              188\n",
       "TimeUnder           0\n",
       "TimeSecs          188\n",
       "PlayTimeDiff      374\n",
       "SideofField       450\n",
       "dtype: int64"
      ]
     },
     "execution_count": 4,
     "metadata": {},
     "output_type": "execute_result"
    }
   ],
   "source": [
    "#Apenas para as primeiras 10 colunas\n",
    "valores_faltantes = dados.isnull().sum()\n",
    "valores_faltantes[:10]"
   ]
  },
  {
   "cell_type": "markdown",
   "id": "92c37767-4743-4f5e-be9a-2b72972b1993",
   "metadata": {
    "tags": []
   },
   "source": [
    "### Identificando a % dos valores faltantes em toda o DataFrame"
   ]
  },
  {
   "cell_type": "code",
   "execution_count": 5,
   "id": "80a2cdc6-36b0-41e6-8d5f-07b7a6fa6b58",
   "metadata": {
    "tags": []
   },
   "outputs": [
    {
     "name": "stdout",
     "output_type": "stream",
     "text": [
      "Valores faltantes: 24.86%\n"
     ]
    }
   ],
   "source": [
    "celulas_totais = np.product(dados.shape)\n",
    "contagem_valores_faltantes = valores_faltantes.sum()\n",
    "print(f'Valores faltantes: {(contagem_valores_faltantes/celulas_totais)*100:.2f}%')"
   ]
  },
  {
   "cell_type": "markdown",
   "id": "45c6ef18-e529-409e-8500-5e742975d174",
   "metadata": {
    "tags": []
   },
   "source": [
    "### Elimitando registros que apresentem dados nulos"
   ]
  },
  {
   "cell_type": "code",
   "execution_count": 6,
   "id": "6ccde5cb-9f3d-4b30-b008-3bf35d30dc2e",
   "metadata": {
    "tags": []
   },
   "outputs": [
    {
     "data": {
      "text/html": [
       "<div>\n",
       "<style scoped>\n",
       "    .dataframe tbody tr th:only-of-type {\n",
       "        vertical-align: middle;\n",
       "    }\n",
       "\n",
       "    .dataframe tbody tr th {\n",
       "        vertical-align: top;\n",
       "    }\n",
       "\n",
       "    .dataframe thead th {\n",
       "        text-align: right;\n",
       "    }\n",
       "</style>\n",
       "<table border=\"1\" class=\"dataframe\">\n",
       "  <thead>\n",
       "    <tr style=\"text-align: right;\">\n",
       "      <th></th>\n",
       "      <th>Date</th>\n",
       "      <th>GameID</th>\n",
       "      <th>Drive</th>\n",
       "      <th>qtr</th>\n",
       "      <th>down</th>\n",
       "      <th>time</th>\n",
       "      <th>TimeUnder</th>\n",
       "      <th>TimeSecs</th>\n",
       "      <th>PlayTimeDiff</th>\n",
       "      <th>SideofField</th>\n",
       "      <th>...</th>\n",
       "      <th>yacEPA</th>\n",
       "      <th>Home_WP_pre</th>\n",
       "      <th>Away_WP_pre</th>\n",
       "      <th>Home_WP_post</th>\n",
       "      <th>Away_WP_post</th>\n",
       "      <th>Win_Prob</th>\n",
       "      <th>WPA</th>\n",
       "      <th>airWPA</th>\n",
       "      <th>yacWPA</th>\n",
       "      <th>Season</th>\n",
       "    </tr>\n",
       "  </thead>\n",
       "  <tbody>\n",
       "  </tbody>\n",
       "</table>\n",
       "<p>0 rows × 102 columns</p>\n",
       "</div>"
      ],
      "text/plain": [
       "Empty DataFrame\n",
       "Columns: [Date, GameID, Drive, qtr, down, time, TimeUnder, TimeSecs, PlayTimeDiff, SideofField, yrdln, yrdline100, ydstogo, ydsnet, GoalToGo, FirstDown, posteam, DefensiveTeam, desc, PlayAttempted, Yards.Gained, sp, Touchdown, ExPointResult, TwoPointConv, DefTwoPoint, Safety, Onsidekick, PuntResult, PlayType, Passer, Passer_ID, PassAttempt, PassOutcome, PassLength, AirYards, YardsAfterCatch, QBHit, PassLocation, InterceptionThrown, Interceptor, Rusher, Rusher_ID, RushAttempt, RunLocation, RunGap, Receiver, Receiver_ID, Reception, ReturnResult, Returner, BlockingPlayer, Tackler1, Tackler2, FieldGoalResult, FieldGoalDistance, Fumble, RecFumbTeam, RecFumbPlayer, Sack, Challenge.Replay, ChalReplayResult, Accepted.Penalty, PenalizedTeam, PenaltyType, PenalizedPlayer, Penalty.Yards, PosTeamScore, DefTeamScore, ScoreDiff, AbsScoreDiff, HomeTeam, AwayTeam, Timeout_Indicator, Timeout_Team, posteam_timeouts_pre, HomeTimeouts_Remaining_Pre, AwayTimeouts_Remaining_Pre, HomeTimeouts_Remaining_Post, AwayTimeouts_Remaining_Post, No_Score_Prob, Opp_Field_Goal_Prob, Opp_Safety_Prob, Opp_Touchdown_Prob, Field_Goal_Prob, Safety_Prob, Touchdown_Prob, ExPoint_Prob, TwoPoint_Prob, ExpPts, EPA, airEPA, yacEPA, Home_WP_pre, Away_WP_pre, Home_WP_post, Away_WP_post, Win_Prob, WPA, airWPA, ...]\n",
       "Index: []\n",
       "\n",
       "[0 rows x 102 columns]"
      ]
     },
     "execution_count": 6,
     "metadata": {},
     "output_type": "execute_result"
    }
   ],
   "source": [
    "sem_na = dados.dropna()\n",
    "sem_na"
   ]
  },
  {
   "cell_type": "markdown",
   "id": "eb0ae914-45ea-40d0-a28e-20a4a42c17f7",
   "metadata": {
    "tags": []
   },
   "source": [
    "### Eliminando colunas com valores nulos"
   ]
  },
  {
   "cell_type": "code",
   "execution_count": 7,
   "id": "4ecc4beb-4d0e-4a7e-afcc-dca100fdbd3c",
   "metadata": {
    "tags": []
   },
   "outputs": [
    {
     "data": {
      "text/html": [
       "<div>\n",
       "<style scoped>\n",
       "    .dataframe tbody tr th:only-of-type {\n",
       "        vertical-align: middle;\n",
       "    }\n",
       "\n",
       "    .dataframe tbody tr th {\n",
       "        vertical-align: top;\n",
       "    }\n",
       "\n",
       "    .dataframe thead th {\n",
       "        text-align: right;\n",
       "    }\n",
       "</style>\n",
       "<table border=\"1\" class=\"dataframe\">\n",
       "  <thead>\n",
       "    <tr style=\"text-align: right;\">\n",
       "      <th></th>\n",
       "      <th>Date</th>\n",
       "      <th>GameID</th>\n",
       "      <th>Drive</th>\n",
       "      <th>qtr</th>\n",
       "      <th>TimeUnder</th>\n",
       "      <th>ydstogo</th>\n",
       "      <th>ydsnet</th>\n",
       "      <th>PlayAttempted</th>\n",
       "      <th>Yards.Gained</th>\n",
       "      <th>sp</th>\n",
       "      <th>...</th>\n",
       "      <th>Timeout_Indicator</th>\n",
       "      <th>Timeout_Team</th>\n",
       "      <th>posteam_timeouts_pre</th>\n",
       "      <th>HomeTimeouts_Remaining_Pre</th>\n",
       "      <th>AwayTimeouts_Remaining_Pre</th>\n",
       "      <th>HomeTimeouts_Remaining_Post</th>\n",
       "      <th>AwayTimeouts_Remaining_Post</th>\n",
       "      <th>ExPoint_Prob</th>\n",
       "      <th>TwoPoint_Prob</th>\n",
       "      <th>Season</th>\n",
       "    </tr>\n",
       "  </thead>\n",
       "  <tbody>\n",
       "    <tr>\n",
       "      <th>0</th>\n",
       "      <td>2009-09-10</td>\n",
       "      <td>2009091000</td>\n",
       "      <td>1</td>\n",
       "      <td>1</td>\n",
       "      <td>15</td>\n",
       "      <td>0</td>\n",
       "      <td>0</td>\n",
       "      <td>1</td>\n",
       "      <td>39</td>\n",
       "      <td>0</td>\n",
       "      <td>...</td>\n",
       "      <td>0</td>\n",
       "      <td>None</td>\n",
       "      <td>3</td>\n",
       "      <td>3</td>\n",
       "      <td>3</td>\n",
       "      <td>3</td>\n",
       "      <td>3</td>\n",
       "      <td>0.0</td>\n",
       "      <td>0.0</td>\n",
       "      <td>2009</td>\n",
       "    </tr>\n",
       "    <tr>\n",
       "      <th>1</th>\n",
       "      <td>2009-09-10</td>\n",
       "      <td>2009091000</td>\n",
       "      <td>1</td>\n",
       "      <td>1</td>\n",
       "      <td>15</td>\n",
       "      <td>10</td>\n",
       "      <td>5</td>\n",
       "      <td>1</td>\n",
       "      <td>5</td>\n",
       "      <td>0</td>\n",
       "      <td>...</td>\n",
       "      <td>0</td>\n",
       "      <td>None</td>\n",
       "      <td>3</td>\n",
       "      <td>3</td>\n",
       "      <td>3</td>\n",
       "      <td>3</td>\n",
       "      <td>3</td>\n",
       "      <td>0.0</td>\n",
       "      <td>0.0</td>\n",
       "      <td>2009</td>\n",
       "    </tr>\n",
       "    <tr>\n",
       "      <th>2</th>\n",
       "      <td>2009-09-10</td>\n",
       "      <td>2009091000</td>\n",
       "      <td>1</td>\n",
       "      <td>1</td>\n",
       "      <td>15</td>\n",
       "      <td>5</td>\n",
       "      <td>2</td>\n",
       "      <td>1</td>\n",
       "      <td>-3</td>\n",
       "      <td>0</td>\n",
       "      <td>...</td>\n",
       "      <td>0</td>\n",
       "      <td>None</td>\n",
       "      <td>3</td>\n",
       "      <td>3</td>\n",
       "      <td>3</td>\n",
       "      <td>3</td>\n",
       "      <td>3</td>\n",
       "      <td>0.0</td>\n",
       "      <td>0.0</td>\n",
       "      <td>2009</td>\n",
       "    </tr>\n",
       "    <tr>\n",
       "      <th>3</th>\n",
       "      <td>2009-09-10</td>\n",
       "      <td>2009091000</td>\n",
       "      <td>1</td>\n",
       "      <td>1</td>\n",
       "      <td>14</td>\n",
       "      <td>8</td>\n",
       "      <td>2</td>\n",
       "      <td>1</td>\n",
       "      <td>0</td>\n",
       "      <td>0</td>\n",
       "      <td>...</td>\n",
       "      <td>0</td>\n",
       "      <td>None</td>\n",
       "      <td>3</td>\n",
       "      <td>3</td>\n",
       "      <td>3</td>\n",
       "      <td>3</td>\n",
       "      <td>3</td>\n",
       "      <td>0.0</td>\n",
       "      <td>0.0</td>\n",
       "      <td>2009</td>\n",
       "    </tr>\n",
       "    <tr>\n",
       "      <th>4</th>\n",
       "      <td>2009-09-10</td>\n",
       "      <td>2009091000</td>\n",
       "      <td>1</td>\n",
       "      <td>1</td>\n",
       "      <td>14</td>\n",
       "      <td>8</td>\n",
       "      <td>2</td>\n",
       "      <td>1</td>\n",
       "      <td>0</td>\n",
       "      <td>0</td>\n",
       "      <td>...</td>\n",
       "      <td>0</td>\n",
       "      <td>None</td>\n",
       "      <td>3</td>\n",
       "      <td>3</td>\n",
       "      <td>3</td>\n",
       "      <td>3</td>\n",
       "      <td>3</td>\n",
       "      <td>0.0</td>\n",
       "      <td>0.0</td>\n",
       "      <td>2009</td>\n",
       "    </tr>\n",
       "  </tbody>\n",
       "</table>\n",
       "<p>5 rows × 41 columns</p>\n",
       "</div>"
      ],
      "text/plain": [
       "         Date      GameID  Drive  qtr  TimeUnder  ydstogo  ydsnet  \\\n",
       "0  2009-09-10  2009091000      1    1         15        0       0   \n",
       "1  2009-09-10  2009091000      1    1         15       10       5   \n",
       "2  2009-09-10  2009091000      1    1         15        5       2   \n",
       "3  2009-09-10  2009091000      1    1         14        8       2   \n",
       "4  2009-09-10  2009091000      1    1         14        8       2   \n",
       "\n",
       "   PlayAttempted  Yards.Gained  sp  ...  Timeout_Indicator  Timeout_Team  \\\n",
       "0              1            39   0  ...                  0          None   \n",
       "1              1             5   0  ...                  0          None   \n",
       "2              1            -3   0  ...                  0          None   \n",
       "3              1             0   0  ...                  0          None   \n",
       "4              1             0   0  ...                  0          None   \n",
       "\n",
       "   posteam_timeouts_pre HomeTimeouts_Remaining_Pre AwayTimeouts_Remaining_Pre  \\\n",
       "0                     3                          3                          3   \n",
       "1                     3                          3                          3   \n",
       "2                     3                          3                          3   \n",
       "3                     3                          3                          3   \n",
       "4                     3                          3                          3   \n",
       "\n",
       "   HomeTimeouts_Remaining_Post  AwayTimeouts_Remaining_Post  ExPoint_Prob  \\\n",
       "0                            3                            3           0.0   \n",
       "1                            3                            3           0.0   \n",
       "2                            3                            3           0.0   \n",
       "3                            3                            3           0.0   \n",
       "4                            3                            3           0.0   \n",
       "\n",
       "   TwoPoint_Prob  Season  \n",
       "0            0.0    2009  \n",
       "1            0.0    2009  \n",
       "2            0.0    2009  \n",
       "3            0.0    2009  \n",
       "4            0.0    2009  \n",
       "\n",
       "[5 rows x 41 columns]"
      ]
     },
     "execution_count": 7,
     "metadata": {},
     "output_type": "execute_result"
    }
   ],
   "source": [
    "sem_colunas_na = dados.dropna(axis = 1)\n",
    "sem_colunas_na.head()"
   ]
  },
  {
   "cell_type": "markdown",
   "id": "805ff5b4-ce80-43d4-a2ad-7a39524d2991",
   "metadata": {
    "tags": []
   },
   "source": [
    "### Preenchendo valores nulos automaticamente"
   ]
  },
  {
   "cell_type": "code",
   "execution_count": 8,
   "id": "b36e5852-e21d-4b79-a134-3b1a54d7b9f1",
   "metadata": {
    "tags": []
   },
   "outputs": [
    {
     "data": {
      "text/html": [
       "<div>\n",
       "<style scoped>\n",
       "    .dataframe tbody tr th:only-of-type {\n",
       "        vertical-align: middle;\n",
       "    }\n",
       "\n",
       "    .dataframe tbody tr th {\n",
       "        vertical-align: top;\n",
       "    }\n",
       "\n",
       "    .dataframe thead th {\n",
       "        text-align: right;\n",
       "    }\n",
       "</style>\n",
       "<table border=\"1\" class=\"dataframe\">\n",
       "  <thead>\n",
       "    <tr style=\"text-align: right;\">\n",
       "      <th></th>\n",
       "      <th>EPA</th>\n",
       "      <th>airEPA</th>\n",
       "      <th>yacEPA</th>\n",
       "      <th>Home_WP_pre</th>\n",
       "      <th>Away_WP_pre</th>\n",
       "      <th>Home_WP_post</th>\n",
       "      <th>Away_WP_post</th>\n",
       "      <th>Win_Prob</th>\n",
       "      <th>WPA</th>\n",
       "      <th>airWPA</th>\n",
       "      <th>yacWPA</th>\n",
       "      <th>Season</th>\n",
       "    </tr>\n",
       "  </thead>\n",
       "  <tbody>\n",
       "    <tr>\n",
       "      <th>0</th>\n",
       "      <td>2.014474</td>\n",
       "      <td>NaN</td>\n",
       "      <td>NaN</td>\n",
       "      <td>0.485675</td>\n",
       "      <td>0.514325</td>\n",
       "      <td>0.546433</td>\n",
       "      <td>0.453567</td>\n",
       "      <td>0.485675</td>\n",
       "      <td>0.060758</td>\n",
       "      <td>NaN</td>\n",
       "      <td>NaN</td>\n",
       "      <td>2009</td>\n",
       "    </tr>\n",
       "    <tr>\n",
       "      <th>1</th>\n",
       "      <td>0.077907</td>\n",
       "      <td>-1.068169</td>\n",
       "      <td>1.146076</td>\n",
       "      <td>0.546433</td>\n",
       "      <td>0.453567</td>\n",
       "      <td>0.551088</td>\n",
       "      <td>0.448912</td>\n",
       "      <td>0.546433</td>\n",
       "      <td>0.004655</td>\n",
       "      <td>-0.032244</td>\n",
       "      <td>0.036899</td>\n",
       "      <td>2009</td>\n",
       "    </tr>\n",
       "    <tr>\n",
       "      <th>2</th>\n",
       "      <td>-1.402760</td>\n",
       "      <td>NaN</td>\n",
       "      <td>NaN</td>\n",
       "      <td>0.551088</td>\n",
       "      <td>0.448912</td>\n",
       "      <td>0.510793</td>\n",
       "      <td>0.489207</td>\n",
       "      <td>0.551088</td>\n",
       "      <td>-0.040295</td>\n",
       "      <td>NaN</td>\n",
       "      <td>NaN</td>\n",
       "      <td>2009</td>\n",
       "    </tr>\n",
       "    <tr>\n",
       "      <th>3</th>\n",
       "      <td>-1.712583</td>\n",
       "      <td>3.318841</td>\n",
       "      <td>-5.031425</td>\n",
       "      <td>0.510793</td>\n",
       "      <td>0.489207</td>\n",
       "      <td>0.461217</td>\n",
       "      <td>0.538783</td>\n",
       "      <td>0.510793</td>\n",
       "      <td>-0.049576</td>\n",
       "      <td>0.106663</td>\n",
       "      <td>-0.156239</td>\n",
       "      <td>2009</td>\n",
       "    </tr>\n",
       "    <tr>\n",
       "      <th>4</th>\n",
       "      <td>2.097796</td>\n",
       "      <td>NaN</td>\n",
       "      <td>NaN</td>\n",
       "      <td>0.461217</td>\n",
       "      <td>0.538783</td>\n",
       "      <td>0.558929</td>\n",
       "      <td>0.441071</td>\n",
       "      <td>0.461217</td>\n",
       "      <td>0.097712</td>\n",
       "      <td>NaN</td>\n",
       "      <td>NaN</td>\n",
       "      <td>2009</td>\n",
       "    </tr>\n",
       "    <tr>\n",
       "      <th>...</th>\n",
       "      <td>...</td>\n",
       "      <td>...</td>\n",
       "      <td>...</td>\n",
       "      <td>...</td>\n",
       "      <td>...</td>\n",
       "      <td>...</td>\n",
       "      <td>...</td>\n",
       "      <td>...</td>\n",
       "      <td>...</td>\n",
       "      <td>...</td>\n",
       "      <td>...</td>\n",
       "      <td>...</td>\n",
       "    </tr>\n",
       "    <tr>\n",
       "      <th>362442</th>\n",
       "      <td>4.620003</td>\n",
       "      <td>4.620003</td>\n",
       "      <td>0.000000</td>\n",
       "      <td>0.051901</td>\n",
       "      <td>0.948099</td>\n",
       "      <td>0.093435</td>\n",
       "      <td>0.906565</td>\n",
       "      <td>0.051901</td>\n",
       "      <td>0.041534</td>\n",
       "      <td>0.041534</td>\n",
       "      <td>0.000000</td>\n",
       "      <td>2016</td>\n",
       "    </tr>\n",
       "    <tr>\n",
       "      <th>362443</th>\n",
       "      <td>0.068885</td>\n",
       "      <td>NaN</td>\n",
       "      <td>NaN</td>\n",
       "      <td>0.093435</td>\n",
       "      <td>0.906565</td>\n",
       "      <td>0.034069</td>\n",
       "      <td>0.965931</td>\n",
       "      <td>0.093435</td>\n",
       "      <td>-0.059366</td>\n",
       "      <td>NaN</td>\n",
       "      <td>NaN</td>\n",
       "      <td>2016</td>\n",
       "    </tr>\n",
       "    <tr>\n",
       "      <th>362444</th>\n",
       "      <td>-0.692792</td>\n",
       "      <td>NaN</td>\n",
       "      <td>NaN</td>\n",
       "      <td>0.034069</td>\n",
       "      <td>0.965931</td>\n",
       "      <td>0.035708</td>\n",
       "      <td>0.964292</td>\n",
       "      <td>0.965931</td>\n",
       "      <td>-0.001639</td>\n",
       "      <td>NaN</td>\n",
       "      <td>NaN</td>\n",
       "      <td>2016</td>\n",
       "    </tr>\n",
       "    <tr>\n",
       "      <th>362445</th>\n",
       "      <td>0.000000</td>\n",
       "      <td>NaN</td>\n",
       "      <td>NaN</td>\n",
       "      <td>0.035708</td>\n",
       "      <td>0.964292</td>\n",
       "      <td>0.000000</td>\n",
       "      <td>1.000000</td>\n",
       "      <td>0.964292</td>\n",
       "      <td>0.035708</td>\n",
       "      <td>NaN</td>\n",
       "      <td>NaN</td>\n",
       "      <td>2016</td>\n",
       "    </tr>\n",
       "    <tr>\n",
       "      <th>362446</th>\n",
       "      <td>0.000000</td>\n",
       "      <td>NaN</td>\n",
       "      <td>NaN</td>\n",
       "      <td>0.000000</td>\n",
       "      <td>1.000000</td>\n",
       "      <td>0.000000</td>\n",
       "      <td>1.000000</td>\n",
       "      <td>0.934245</td>\n",
       "      <td>0.000000</td>\n",
       "      <td>NaN</td>\n",
       "      <td>NaN</td>\n",
       "      <td>2016</td>\n",
       "    </tr>\n",
       "  </tbody>\n",
       "</table>\n",
       "<p>362447 rows × 12 columns</p>\n",
       "</div>"
      ],
      "text/plain": [
       "             EPA    airEPA    yacEPA  Home_WP_pre  Away_WP_pre  Home_WP_post  \\\n",
       "0       2.014474       NaN       NaN     0.485675     0.514325      0.546433   \n",
       "1       0.077907 -1.068169  1.146076     0.546433     0.453567      0.551088   \n",
       "2      -1.402760       NaN       NaN     0.551088     0.448912      0.510793   \n",
       "3      -1.712583  3.318841 -5.031425     0.510793     0.489207      0.461217   \n",
       "4       2.097796       NaN       NaN     0.461217     0.538783      0.558929   \n",
       "...          ...       ...       ...          ...          ...           ...   \n",
       "362442  4.620003  4.620003  0.000000     0.051901     0.948099      0.093435   \n",
       "362443  0.068885       NaN       NaN     0.093435     0.906565      0.034069   \n",
       "362444 -0.692792       NaN       NaN     0.034069     0.965931      0.035708   \n",
       "362445  0.000000       NaN       NaN     0.035708     0.964292      0.000000   \n",
       "362446  0.000000       NaN       NaN     0.000000     1.000000      0.000000   \n",
       "\n",
       "        Away_WP_post  Win_Prob       WPA    airWPA    yacWPA  Season  \n",
       "0           0.453567  0.485675  0.060758       NaN       NaN    2009  \n",
       "1           0.448912  0.546433  0.004655 -0.032244  0.036899    2009  \n",
       "2           0.489207  0.551088 -0.040295       NaN       NaN    2009  \n",
       "3           0.538783  0.510793 -0.049576  0.106663 -0.156239    2009  \n",
       "4           0.441071  0.461217  0.097712       NaN       NaN    2009  \n",
       "...              ...       ...       ...       ...       ...     ...  \n",
       "362442      0.906565  0.051901  0.041534  0.041534  0.000000    2016  \n",
       "362443      0.965931  0.093435 -0.059366       NaN       NaN    2016  \n",
       "362444      0.964292  0.965931 -0.001639       NaN       NaN    2016  \n",
       "362445      1.000000  0.964292  0.035708       NaN       NaN    2016  \n",
       "362446      1.000000  0.934245  0.000000       NaN       NaN    2016  \n",
       "\n",
       "[362447 rows x 12 columns]"
      ]
     },
     "execution_count": 8,
     "metadata": {},
     "output_type": "execute_result"
    }
   ],
   "source": [
    "#Separando uma pequena parte do conjunto\n",
    "dado_fracionado = dados.loc[:,'EPA':'Season']\n",
    "dado_fracionado"
   ]
  },
  {
   "cell_type": "code",
   "execution_count": 9,
   "id": "d861df6c-d1b9-493f-83b1-f2308c272198",
   "metadata": {
    "tags": []
   },
   "outputs": [
    {
     "data": {
      "text/html": [
       "<div>\n",
       "<style scoped>\n",
       "    .dataframe tbody tr th:only-of-type {\n",
       "        vertical-align: middle;\n",
       "    }\n",
       "\n",
       "    .dataframe tbody tr th {\n",
       "        vertical-align: top;\n",
       "    }\n",
       "\n",
       "    .dataframe thead th {\n",
       "        text-align: right;\n",
       "    }\n",
       "</style>\n",
       "<table border=\"1\" class=\"dataframe\">\n",
       "  <thead>\n",
       "    <tr style=\"text-align: right;\">\n",
       "      <th></th>\n",
       "      <th>EPA</th>\n",
       "      <th>airEPA</th>\n",
       "      <th>yacEPA</th>\n",
       "      <th>Home_WP_pre</th>\n",
       "      <th>Away_WP_pre</th>\n",
       "      <th>Home_WP_post</th>\n",
       "      <th>Away_WP_post</th>\n",
       "      <th>Win_Prob</th>\n",
       "      <th>WPA</th>\n",
       "      <th>airWPA</th>\n",
       "      <th>yacWPA</th>\n",
       "      <th>Season</th>\n",
       "    </tr>\n",
       "  </thead>\n",
       "  <tbody>\n",
       "    <tr>\n",
       "      <th>0</th>\n",
       "      <td>2.014474</td>\n",
       "      <td>VALOR AUSENTE</td>\n",
       "      <td>VALOR AUSENTE</td>\n",
       "      <td>0.485675</td>\n",
       "      <td>0.514325</td>\n",
       "      <td>0.546433</td>\n",
       "      <td>0.453567</td>\n",
       "      <td>0.485675</td>\n",
       "      <td>0.060758</td>\n",
       "      <td>VALOR AUSENTE</td>\n",
       "      <td>VALOR AUSENTE</td>\n",
       "      <td>2009</td>\n",
       "    </tr>\n",
       "    <tr>\n",
       "      <th>1</th>\n",
       "      <td>0.077907</td>\n",
       "      <td>-1.068169</td>\n",
       "      <td>1.146076</td>\n",
       "      <td>0.546433</td>\n",
       "      <td>0.453567</td>\n",
       "      <td>0.551088</td>\n",
       "      <td>0.448912</td>\n",
       "      <td>0.546433</td>\n",
       "      <td>0.004655</td>\n",
       "      <td>-0.032244</td>\n",
       "      <td>0.036899</td>\n",
       "      <td>2009</td>\n",
       "    </tr>\n",
       "    <tr>\n",
       "      <th>2</th>\n",
       "      <td>-1.40276</td>\n",
       "      <td>VALOR AUSENTE</td>\n",
       "      <td>VALOR AUSENTE</td>\n",
       "      <td>0.551088</td>\n",
       "      <td>0.448912</td>\n",
       "      <td>0.510793</td>\n",
       "      <td>0.489207</td>\n",
       "      <td>0.551088</td>\n",
       "      <td>-0.040295</td>\n",
       "      <td>VALOR AUSENTE</td>\n",
       "      <td>VALOR AUSENTE</td>\n",
       "      <td>2009</td>\n",
       "    </tr>\n",
       "    <tr>\n",
       "      <th>3</th>\n",
       "      <td>-1.712583</td>\n",
       "      <td>3.318841</td>\n",
       "      <td>-5.031425</td>\n",
       "      <td>0.510793</td>\n",
       "      <td>0.489207</td>\n",
       "      <td>0.461217</td>\n",
       "      <td>0.538783</td>\n",
       "      <td>0.510793</td>\n",
       "      <td>-0.049576</td>\n",
       "      <td>0.106663</td>\n",
       "      <td>-0.156239</td>\n",
       "      <td>2009</td>\n",
       "    </tr>\n",
       "    <tr>\n",
       "      <th>4</th>\n",
       "      <td>2.097796</td>\n",
       "      <td>VALOR AUSENTE</td>\n",
       "      <td>VALOR AUSENTE</td>\n",
       "      <td>0.461217</td>\n",
       "      <td>0.538783</td>\n",
       "      <td>0.558929</td>\n",
       "      <td>0.441071</td>\n",
       "      <td>0.461217</td>\n",
       "      <td>0.097712</td>\n",
       "      <td>VALOR AUSENTE</td>\n",
       "      <td>VALOR AUSENTE</td>\n",
       "      <td>2009</td>\n",
       "    </tr>\n",
       "  </tbody>\n",
       "</table>\n",
       "</div>"
      ],
      "text/plain": [
       "        EPA         airEPA         yacEPA Home_WP_pre Away_WP_pre  \\\n",
       "0  2.014474  VALOR AUSENTE  VALOR AUSENTE    0.485675    0.514325   \n",
       "1  0.077907      -1.068169       1.146076    0.546433    0.453567   \n",
       "2  -1.40276  VALOR AUSENTE  VALOR AUSENTE    0.551088    0.448912   \n",
       "3 -1.712583       3.318841      -5.031425    0.510793    0.489207   \n",
       "4  2.097796  VALOR AUSENTE  VALOR AUSENTE    0.461217    0.538783   \n",
       "\n",
       "  Home_WP_post Away_WP_post  Win_Prob       WPA         airWPA         yacWPA  \\\n",
       "0     0.546433     0.453567  0.485675  0.060758  VALOR AUSENTE  VALOR AUSENTE   \n",
       "1     0.551088     0.448912  0.546433  0.004655      -0.032244       0.036899   \n",
       "2     0.510793     0.489207  0.551088 -0.040295  VALOR AUSENTE  VALOR AUSENTE   \n",
       "3     0.461217     0.538783  0.510793 -0.049576       0.106663      -0.156239   \n",
       "4     0.558929     0.441071  0.461217  0.097712  VALOR AUSENTE  VALOR AUSENTE   \n",
       "\n",
       "   Season  \n",
       "0    2009  \n",
       "1    2009  \n",
       "2    2009  \n",
       "3    2009  \n",
       "4    2009  "
      ]
     },
     "execution_count": 9,
     "metadata": {},
     "output_type": "execute_result"
    }
   ],
   "source": [
    "#Substituindo os valores nulos pela string 'VALOR AUSENTE'\n",
    "dado_frac_substituido = dado_fracionado.fillna('VALOR AUSENTE')\n",
    "dado_frac_substituido.head()"
   ]
  },
  {
   "cell_type": "code",
   "execution_count": 10,
   "id": "9495d7e2-e3f8-4f33-915b-56521496683d",
   "metadata": {
    "tags": []
   },
   "outputs": [
    {
     "data": {
      "text/html": [
       "<div>\n",
       "<style scoped>\n",
       "    .dataframe tbody tr th:only-of-type {\n",
       "        vertical-align: middle;\n",
       "    }\n",
       "\n",
       "    .dataframe tbody tr th {\n",
       "        vertical-align: top;\n",
       "    }\n",
       "\n",
       "    .dataframe thead th {\n",
       "        text-align: right;\n",
       "    }\n",
       "</style>\n",
       "<table border=\"1\" class=\"dataframe\">\n",
       "  <thead>\n",
       "    <tr style=\"text-align: right;\">\n",
       "      <th></th>\n",
       "      <th>EPA</th>\n",
       "      <th>airEPA</th>\n",
       "      <th>yacEPA</th>\n",
       "      <th>Home_WP_pre</th>\n",
       "      <th>Away_WP_pre</th>\n",
       "      <th>Home_WP_post</th>\n",
       "      <th>Away_WP_post</th>\n",
       "      <th>Win_Prob</th>\n",
       "      <th>WPA</th>\n",
       "      <th>airWPA</th>\n",
       "      <th>yacWPA</th>\n",
       "      <th>Season</th>\n",
       "    </tr>\n",
       "  </thead>\n",
       "  <tbody>\n",
       "    <tr>\n",
       "      <th>0</th>\n",
       "      <td>2.014474</td>\n",
       "      <td>-1.068169</td>\n",
       "      <td>1.146076</td>\n",
       "      <td>0.485675</td>\n",
       "      <td>0.514325</td>\n",
       "      <td>0.546433</td>\n",
       "      <td>0.453567</td>\n",
       "      <td>0.485675</td>\n",
       "      <td>0.060758</td>\n",
       "      <td>-0.032244</td>\n",
       "      <td>0.036899</td>\n",
       "      <td>2009</td>\n",
       "    </tr>\n",
       "    <tr>\n",
       "      <th>1</th>\n",
       "      <td>0.077907</td>\n",
       "      <td>-1.068169</td>\n",
       "      <td>1.146076</td>\n",
       "      <td>0.546433</td>\n",
       "      <td>0.453567</td>\n",
       "      <td>0.551088</td>\n",
       "      <td>0.448912</td>\n",
       "      <td>0.546433</td>\n",
       "      <td>0.004655</td>\n",
       "      <td>-0.032244</td>\n",
       "      <td>0.036899</td>\n",
       "      <td>2009</td>\n",
       "    </tr>\n",
       "    <tr>\n",
       "      <th>2</th>\n",
       "      <td>-1.402760</td>\n",
       "      <td>3.318841</td>\n",
       "      <td>-5.031425</td>\n",
       "      <td>0.551088</td>\n",
       "      <td>0.448912</td>\n",
       "      <td>0.510793</td>\n",
       "      <td>0.489207</td>\n",
       "      <td>0.551088</td>\n",
       "      <td>-0.040295</td>\n",
       "      <td>0.106663</td>\n",
       "      <td>-0.156239</td>\n",
       "      <td>2009</td>\n",
       "    </tr>\n",
       "    <tr>\n",
       "      <th>3</th>\n",
       "      <td>-1.712583</td>\n",
       "      <td>3.318841</td>\n",
       "      <td>-5.031425</td>\n",
       "      <td>0.510793</td>\n",
       "      <td>0.489207</td>\n",
       "      <td>0.461217</td>\n",
       "      <td>0.538783</td>\n",
       "      <td>0.510793</td>\n",
       "      <td>-0.049576</td>\n",
       "      <td>0.106663</td>\n",
       "      <td>-0.156239</td>\n",
       "      <td>2009</td>\n",
       "    </tr>\n",
       "    <tr>\n",
       "      <th>4</th>\n",
       "      <td>2.097796</td>\n",
       "      <td>-0.343085</td>\n",
       "      <td>0.163935</td>\n",
       "      <td>0.461217</td>\n",
       "      <td>0.538783</td>\n",
       "      <td>0.558929</td>\n",
       "      <td>0.441071</td>\n",
       "      <td>0.461217</td>\n",
       "      <td>0.097712</td>\n",
       "      <td>-0.010456</td>\n",
       "      <td>0.006029</td>\n",
       "      <td>2009</td>\n",
       "    </tr>\n",
       "    <tr>\n",
       "      <th>...</th>\n",
       "      <td>...</td>\n",
       "      <td>...</td>\n",
       "      <td>...</td>\n",
       "      <td>...</td>\n",
       "      <td>...</td>\n",
       "      <td>...</td>\n",
       "      <td>...</td>\n",
       "      <td>...</td>\n",
       "      <td>...</td>\n",
       "      <td>...</td>\n",
       "      <td>...</td>\n",
       "      <td>...</td>\n",
       "    </tr>\n",
       "    <tr>\n",
       "      <th>362442</th>\n",
       "      <td>4.620003</td>\n",
       "      <td>4.620003</td>\n",
       "      <td>0.0</td>\n",
       "      <td>0.051901</td>\n",
       "      <td>0.948099</td>\n",
       "      <td>0.093435</td>\n",
       "      <td>0.906565</td>\n",
       "      <td>0.051901</td>\n",
       "      <td>0.041534</td>\n",
       "      <td>0.041534</td>\n",
       "      <td>0.0</td>\n",
       "      <td>2016</td>\n",
       "    </tr>\n",
       "    <tr>\n",
       "      <th>362443</th>\n",
       "      <td>0.068885</td>\n",
       "      <td>VALOR AUSENTE</td>\n",
       "      <td>VALOR AUSENTE</td>\n",
       "      <td>0.093435</td>\n",
       "      <td>0.906565</td>\n",
       "      <td>0.034069</td>\n",
       "      <td>0.965931</td>\n",
       "      <td>0.093435</td>\n",
       "      <td>-0.059366</td>\n",
       "      <td>VALOR AUSENTE</td>\n",
       "      <td>VALOR AUSENTE</td>\n",
       "      <td>2016</td>\n",
       "    </tr>\n",
       "    <tr>\n",
       "      <th>362444</th>\n",
       "      <td>-0.692792</td>\n",
       "      <td>VALOR AUSENTE</td>\n",
       "      <td>VALOR AUSENTE</td>\n",
       "      <td>0.034069</td>\n",
       "      <td>0.965931</td>\n",
       "      <td>0.035708</td>\n",
       "      <td>0.964292</td>\n",
       "      <td>0.965931</td>\n",
       "      <td>-0.001639</td>\n",
       "      <td>VALOR AUSENTE</td>\n",
       "      <td>VALOR AUSENTE</td>\n",
       "      <td>2016</td>\n",
       "    </tr>\n",
       "    <tr>\n",
       "      <th>362445</th>\n",
       "      <td>0.000000</td>\n",
       "      <td>VALOR AUSENTE</td>\n",
       "      <td>VALOR AUSENTE</td>\n",
       "      <td>0.035708</td>\n",
       "      <td>0.964292</td>\n",
       "      <td>0.000000</td>\n",
       "      <td>1.000000</td>\n",
       "      <td>0.964292</td>\n",
       "      <td>0.035708</td>\n",
       "      <td>VALOR AUSENTE</td>\n",
       "      <td>VALOR AUSENTE</td>\n",
       "      <td>2016</td>\n",
       "    </tr>\n",
       "    <tr>\n",
       "      <th>362446</th>\n",
       "      <td>0.000000</td>\n",
       "      <td>VALOR AUSENTE</td>\n",
       "      <td>VALOR AUSENTE</td>\n",
       "      <td>0.000000</td>\n",
       "      <td>1.000000</td>\n",
       "      <td>0.000000</td>\n",
       "      <td>1.000000</td>\n",
       "      <td>0.934245</td>\n",
       "      <td>0.000000</td>\n",
       "      <td>VALOR AUSENTE</td>\n",
       "      <td>VALOR AUSENTE</td>\n",
       "      <td>2016</td>\n",
       "    </tr>\n",
       "  </tbody>\n",
       "</table>\n",
       "<p>362447 rows × 12 columns</p>\n",
       "</div>"
      ],
      "text/plain": [
       "             EPA         airEPA         yacEPA  Home_WP_pre  Away_WP_pre  \\\n",
       "0       2.014474      -1.068169       1.146076     0.485675     0.514325   \n",
       "1       0.077907      -1.068169       1.146076     0.546433     0.453567   \n",
       "2      -1.402760       3.318841      -5.031425     0.551088     0.448912   \n",
       "3      -1.712583       3.318841      -5.031425     0.510793     0.489207   \n",
       "4       2.097796      -0.343085       0.163935     0.461217     0.538783   \n",
       "...          ...            ...            ...          ...          ...   \n",
       "362442  4.620003       4.620003            0.0     0.051901     0.948099   \n",
       "362443  0.068885  VALOR AUSENTE  VALOR AUSENTE     0.093435     0.906565   \n",
       "362444 -0.692792  VALOR AUSENTE  VALOR AUSENTE     0.034069     0.965931   \n",
       "362445  0.000000  VALOR AUSENTE  VALOR AUSENTE     0.035708     0.964292   \n",
       "362446  0.000000  VALOR AUSENTE  VALOR AUSENTE     0.000000     1.000000   \n",
       "\n",
       "        Home_WP_post  Away_WP_post  Win_Prob       WPA         airWPA  \\\n",
       "0           0.546433      0.453567  0.485675  0.060758      -0.032244   \n",
       "1           0.551088      0.448912  0.546433  0.004655      -0.032244   \n",
       "2           0.510793      0.489207  0.551088 -0.040295       0.106663   \n",
       "3           0.461217      0.538783  0.510793 -0.049576       0.106663   \n",
       "4           0.558929      0.441071  0.461217  0.097712      -0.010456   \n",
       "...              ...           ...       ...       ...            ...   \n",
       "362442      0.093435      0.906565  0.051901  0.041534       0.041534   \n",
       "362443      0.034069      0.965931  0.093435 -0.059366  VALOR AUSENTE   \n",
       "362444      0.035708      0.964292  0.965931 -0.001639  VALOR AUSENTE   \n",
       "362445      0.000000      1.000000  0.964292  0.035708  VALOR AUSENTE   \n",
       "362446      0.000000      1.000000  0.934245  0.000000  VALOR AUSENTE   \n",
       "\n",
       "               yacWPA  Season  \n",
       "0            0.036899    2009  \n",
       "1            0.036899    2009  \n",
       "2           -0.156239    2009  \n",
       "3           -0.156239    2009  \n",
       "4            0.006029    2009  \n",
       "...               ...     ...  \n",
       "362442            0.0    2016  \n",
       "362443  VALOR AUSENTE    2016  \n",
       "362444  VALOR AUSENTE    2016  \n",
       "362445  VALOR AUSENTE    2016  \n",
       "362446  VALOR AUSENTE    2016  \n",
       "\n",
       "[362447 rows x 12 columns]"
      ]
     },
     "execution_count": 10,
     "metadata": {},
     "output_type": "execute_result"
    }
   ],
   "source": [
    "#Preenchendo com o próximo valor\n",
    "dado_fracionado.fillna(method='bfill', axis = 0).fillna('VALOR AUSENTE')"
   ]
  },
  {
   "cell_type": "markdown",
   "id": "a5d78217-fa89-4ad9-b408-0df835daf062",
   "metadata": {
    "tags": []
   },
   "source": [
    "# Escalonamento e normalização"
   ]
  },
  {
   "cell_type": "code",
   "execution_count": 11,
   "id": "ad3b6b6b-0608-4eee-a03e-e03a5662fc1e",
   "metadata": {},
   "outputs": [],
   "source": [
    "#Para transformação com o método box-cox\n",
    "from scipy import stats \n",
    "\n",
    "#Para escalação min_max\n",
    "from mlxtend.preprocessing import minmax_scaling\n",
    "\n",
    "#Para plotagens gráficas\n",
    "import seaborn as sns\n",
    "import matplotlib.pyplot as plt"
   ]
  },
  {
   "cell_type": "markdown",
   "id": "cc7e456d-46fd-43f7-b4e0-bd99b64ad558",
   "metadata": {},
   "source": [
    "## Escalonamento"
   ]
  },
  {
   "cell_type": "code",
   "execution_count": 12,
   "id": "d9d489c4-e8a5-4900-9cd0-4cbc52d5fbf6",
   "metadata": {},
   "outputs": [
    {
     "data": {
      "text/plain": [
       "Text(0.5, 1.0, 'Com escalonamento')"
      ]
     },
     "execution_count": 12,
     "metadata": {},
     "output_type": "execute_result"
    },
    {
     "data": {
      "image/png": "[encoded data removed]",
      "text/plain": [
       "<Figure size 1000x300 with 2 Axes>"
      ]
     },
     "metadata": {},
     "output_type": "display_data"
    }
   ],
   "source": [
    "#Para garantir reprodutibilidade\n",
    "np.random.seed(10)\n",
    "\n",
    "#Gerando dados aleatórios\n",
    "dados_aleatorios = np.random.exponential(size = 1000)\n",
    "\n",
    "#Escalando os dados aleatórios\n",
    "dados_escalados = minmax_scaling(dados_aleatorios, columns = [0])\n",
    "\n",
    "#Plotando os gráficos\n",
    "fig, ax = plt.subplots(1, 2, figsize = (10,3))\n",
    "sns.histplot(data = dados_aleatorios, ax=ax[0], kde = True, legend = False)\n",
    "ax[0].set_title('Sem escalonamento')\n",
    "sns.histplot(data = dados_escalados, ax=ax[1], kde = True, legend = False)\n",
    "ax[1].set_title('Com escalonamento')"
   ]
  },
  {
   "cell_type": "markdown",
   "id": "04b48f23-46fa-4e21-bdf6-23d9c6687907",
   "metadata": {},
   "source": [
    "## Normalização"
   ]
  },
  {
   "cell_type": "code",
   "execution_count": 13,
   "id": "b5f79afd-a5dd-4c5e-a589-64a9fb656a43",
   "metadata": {},
   "outputs": [
    {
     "data": {
      "text/plain": [
       "Text(0.5, 1.0, 'Normalizado')"
      ]
     },
     "execution_count": 13,
     "metadata": {},
     "output_type": "execute_result"
    },
    {
     "data": {
      "image/png": "[encoded data removed]",
      "text/plain": [
       "<Figure size 1000x300 with 2 Axes>"
      ]
     },
     "metadata": {},
     "output_type": "display_data"
    }
   ],
   "source": [
    "#Normalizando os dados\n",
    "dados_normalizados = stats.boxcox(dados_aleatorios)\n",
    "\n",
    "#Plotando os dados não normalizados e os normalizados para comparação\n",
    "fig, ax = plt.subplots(1 ,2, figsize = (10,3))\n",
    "sns.histplot(data = dados_aleatorios,ax = ax[0] , kde = True, legend = False)\n",
    "ax[0].set_title('Não normalizado')\n",
    "sns.histplot(data = dados_normalizados, ax = ax[1], kde = True, legend = False)\n",
    "ax[1].set_title('Normalizado')"
   ]
  },
  {
   "cell_type": "markdown",
   "id": "5f7123f9-df3f-4244-b8df-e2f76c9073e0",
   "metadata": {},
   "source": [
    "# Analisando datas"
   ]
  },
  {
   "cell_type": "code",
   "execution_count": 14,
   "id": "c88c2879-4068-45df-ac3f-d205bb9c9401",
   "metadata": {},
   "outputs": [],
   "source": [
    "import datetime"
   ]
  },
  {
   "cell_type": "code",
   "execution_count": 15,
   "id": "1c3e05a5-2936-419c-81c8-dd4318dd2f48",
   "metadata": {
    "jupyter": {
     "source_hidden": true
    },
    "tags": []
   },
   "outputs": [],
   "source": [
    "catalog = r\"C:\\Users\\marco\\Dropbox\\PC\\Desktop\\Estudo_Bibliotecas\\Arquivos\\catalog.csv\""
   ]
  },
  {
   "cell_type": "code",
   "execution_count": 16,
   "id": "ee3cede7-7d38-4a32-82fa-f1d57f466700",
   "metadata": {},
   "outputs": [
    {
     "data": {
      "text/plain": [
       "0     3/2/07\n",
       "1    3/22/07\n",
       "2     4/6/07\n",
       "3    4/14/07\n",
       "4    4/15/07\n",
       "Name: date, dtype: object"
      ]
     },
     "execution_count": 16,
     "metadata": {},
     "output_type": "execute_result"
    }
   ],
   "source": [
    "#Visualizando apenas a coluna de datas\n",
    "catalogo = pd.read_csv(catalog)\n",
    "catalogo.date.head()"
   ]
  },
  {
   "cell_type": "code",
   "execution_count": 17,
   "id": "948eaab5-9187-4cc4-9518-d27a1c6e5809",
   "metadata": {},
   "outputs": [
    {
     "data": {
      "text/plain": [
       "0   2007-03-02\n",
       "1   2007-03-22\n",
       "2   2007-04-06\n",
       "3   2007-04-14\n",
       "4   2007-04-15\n",
       "Name: data corrigida, dtype: datetime64[ns]"
      ]
     },
     "execution_count": 17,
     "metadata": {},
     "output_type": "execute_result"
    }
   ],
   "source": [
    "#Corrigindo o formato dos dados para data\n",
    "catalogo['data corrigida'] = pd.to_datetime(catalogo['date'], format = '%m/%d/%y')\n",
    "catalogo['data corrigida'].head()"
   ]
  },
  {
   "cell_type": "code",
   "execution_count": 18,
   "id": "a33ddfeb-057e-4fa9-ab8c-20694aceedae",
   "metadata": {},
   "outputs": [
    {
     "name": "stdout",
     "output_type": "stream",
     "text": [
      "Dias do mês\n",
      " 0     2.0\n",
      "1    22.0\n",
      "2     6.0\n",
      "3    14.0\n",
      "4    15.0\n",
      "Name: data corrigida, dtype: float64 \n",
      "\n",
      "Meses do ano\n",
      " 0    3.0\n",
      "1    3.0\n",
      "2    4.0\n",
      "3    4.0\n",
      "4    4.0\n",
      "Name: data corrigida, dtype: float64 \n",
      "\n",
      "Anos\n",
      " 0    2007.0\n",
      "1    2007.0\n",
      "2    2007.0\n",
      "3    2007.0\n",
      "4    2007.0\n",
      "Name: data corrigida, dtype: float64\n"
     ]
    }
   ],
   "source": [
    "#Identificando os dias, meses e anos\n",
    "dias_do_mes = catalogo['data corrigida'].dt.day #Mostrando o dia\n",
    "meses_do_ano = catalogo['data corrigida'].dt.month #Mostrando o mês\n",
    "anos = catalogo['data corrigida'].dt.year #Mostrando o ano\n",
    "\n",
    "print('Dias do mês\\n', dias_do_mes.head(), '\\n')\n",
    "print('Meses do ano\\n', meses_do_ano.head(), '\\n')\n",
    "print('Anos\\n', anos.head())"
   ]
  },
  {
   "cell_type": "code",
   "execution_count": 19,
   "id": "98becd02-67fa-4422-8d6f-190468680d2d",
   "metadata": {},
   "outputs": [
    {
     "data": {
      "text/plain": [
       "<Axes: title={'center': 'Dias do mês'}, xlabel='data corrigida', ylabel='Count'>"
      ]
     },
     "execution_count": 19,
     "metadata": {},
     "output_type": "execute_result"
    },
    {
     "data": {
      "image/png": "[encoded data removed]",
      "text/plain": [
       "<Figure size 640x480 with 1 Axes>"
      ]
     },
     "metadata": {},
     "output_type": "display_data"
    }
   ],
   "source": [
    "#Plotando os dias para confirmar se o método foi eficiente\n",
    "dias_do_mes = dias_do_mes.dropna()\n",
    "plt.title('Dias do mês')\n",
    "sns.histplot(data = dias_do_mes, bins = 30)"
   ]
  },
  {
   "cell_type": "markdown",
   "id": "fb20c6d6-af7a-4d89-a716-7957558586a6",
   "metadata": {},
   "source": [
    "# Codificação de caracteres"
   ]
  },
  {
   "cell_type": "code",
   "execution_count": 20,
   "id": "3bab3080-2574-4253-af31-cbb679a0d14f",
   "metadata": {},
   "outputs": [],
   "source": [
    "import charset_normalizer"
   ]
  },
  {
   "cell_type": "markdown",
   "id": "3d53d0ab-417f-442f-b99e-1c3e9e0efbff",
   "metadata": {},
   "source": [
    "## Tipagem dos dados"
   ]
  },
  {
   "cell_type": "code",
   "execution_count": 21,
   "id": "fd628764-1520-4156-bbbc-6411eade3037",
   "metadata": {},
   "outputs": [
    {
     "name": "stdout",
     "output_type": "stream",
     "text": [
      "Símbolo da libra: £\n"
     ]
    },
    {
     "data": {
      "text/plain": [
       "str"
      ]
     },
     "execution_count": 21,
     "metadata": {},
     "output_type": "execute_result"
    }
   ],
   "source": [
    "#Tipo string\n",
    "texto = \"Símbolo da libra: £\"\n",
    "\n",
    "print(texto)\n",
    "type(texto)"
   ]
  },
  {
   "cell_type": "code",
   "execution_count": 22,
   "id": "2e7b39df-bd48-4286-9982-2bf9aab5d83a",
   "metadata": {},
   "outputs": [
    {
     "name": "stdout",
     "output_type": "stream",
     "text": [
      "b'S\\xc3\\xadmbolo da libra: \\xc2\\xa3'\n"
     ]
    },
    {
     "data": {
      "text/plain": [
       "bytes"
      ]
     },
     "execution_count": 22,
     "metadata": {},
     "output_type": "execute_result"
    }
   ],
   "source": [
    "#Tipo byte\n",
    "codificado = texto.encode(\"utf-8\", errors=\"replace\")\n",
    "\n",
    "\n",
    "print(codificado)\n",
    "type(codificado)"
   ]
  },
  {
   "cell_type": "code",
   "execution_count": 23,
   "id": "c0e9f03c-e726-49e6-8811-1035af15e7e4",
   "metadata": {},
   "outputs": [
    {
     "name": "stdout",
     "output_type": "stream",
     "text": [
      "Símbolo da libra: £\n"
     ]
    }
   ],
   "source": [
    "#Decodificando o byte\n",
    "print(codificado.decode('utf-8'))"
   ]
  },
  {
   "cell_type": "markdown",
   "id": "19b8ddd8-9bb2-4427-bb7c-02e164266023",
   "metadata": {},
   "source": [
    "## Identificando a codificação do arquivo"
   ]
  },
  {
   "cell_type": "code",
   "execution_count": 24,
   "id": "e1b393e1-95ca-4ec0-9398-c33090636d0c",
   "metadata": {},
   "outputs": [
    {
     "name": "stdout",
     "output_type": "stream",
     "text": [
      "{'encoding': 'utf-8', 'language': 'English', 'confidence': 1.0}\n"
     ]
    }
   ],
   "source": [
    "#Analisando as primeiras 10.000 linhas\n",
    "with open (catalog, 'rb') as rawdata:\n",
    "    resultado = charset_normalizer.detect(rawdata.read(10000))\n",
    "\n",
    "#Checando a codificação\n",
    "print (resultado)"
   ]
  },
  {
   "cell_type": "markdown",
   "id": "797340be-40bd-4bd7-9c1d-b8dec4dd2e1e",
   "metadata": {},
   "source": [
    "# Entrada de dados inconsistentes"
   ]
  },
  {
   "cell_type": "code",
   "execution_count": 25,
   "id": "12eaa55a-4c02-4715-b1fd-6b4d04e92ae1",
   "metadata": {},
   "outputs": [
    {
     "name": "stderr",
     "output_type": "stream",
     "text": [
      "C:\\Users\\marco\\anaconda3\\lib\\site-packages\\fuzzywuzzy\\fuzz.py:11: UserWarning: Using slow pure-python SequenceMatcher. Install python-Levenshtein to remove this warning\n",
      "  warnings.warn('Using slow pure-python SequenceMatcher. Install python-Levenshtein to remove this warning')\n"
     ]
    }
   ],
   "source": [
    "import fuzzywuzzy\n",
    "from fuzzywuzzy import process\n",
    "import charset_normalizer"
   ]
  },
  {
   "cell_type": "code",
   "execution_count": 26,
   "id": "fe9d51da-66f8-44a8-908e-6cb84ae177be",
   "metadata": {
    "tags": []
   },
   "outputs": [],
   "source": [
    "professors = r\"C:\\Users\\marco\\Dropbox\\PC\\Desktop\\Estudo_Bibliotecas\\Arquivos\\pakistan_intellectual_capital.csv\""
   ]
  },
  {
   "cell_type": "code",
   "execution_count": 27,
   "id": "1d6b2466-6479-4331-91d1-03123e488973",
   "metadata": {},
   "outputs": [
    {
     "data": {
      "text/html": [
       "<div>\n",
       "<style scoped>\n",
       "    .dataframe tbody tr th:only-of-type {\n",
       "        vertical-align: middle;\n",
       "    }\n",
       "\n",
       "    .dataframe tbody tr th {\n",
       "        vertical-align: top;\n",
       "    }\n",
       "\n",
       "    .dataframe thead th {\n",
       "        text-align: right;\n",
       "    }\n",
       "</style>\n",
       "<table border=\"1\" class=\"dataframe\">\n",
       "  <thead>\n",
       "    <tr style=\"text-align: right;\">\n",
       "      <th></th>\n",
       "      <th>Unnamed: 0</th>\n",
       "      <th>S#</th>\n",
       "      <th>Teacher Name</th>\n",
       "      <th>University Currently Teaching</th>\n",
       "      <th>Department</th>\n",
       "      <th>Province University Located</th>\n",
       "      <th>Designation</th>\n",
       "      <th>Terminal Degree</th>\n",
       "      <th>Graduated from</th>\n",
       "      <th>Country</th>\n",
       "      <th>Year</th>\n",
       "      <th>Area of Specialization/Research Interests</th>\n",
       "      <th>Other Information</th>\n",
       "    </tr>\n",
       "  </thead>\n",
       "  <tbody>\n",
       "    <tr>\n",
       "      <th>0</th>\n",
       "      <td>2</td>\n",
       "      <td>3</td>\n",
       "      <td>Dr. Abdul Basit</td>\n",
       "      <td>University of Balochistan</td>\n",
       "      <td>Computer Science &amp; IT</td>\n",
       "      <td>Balochistan</td>\n",
       "      <td>Assistant Professor</td>\n",
       "      <td>PhD</td>\n",
       "      <td>Asian Institute of Technology</td>\n",
       "      <td>Thailand</td>\n",
       "      <td>NaN</td>\n",
       "      <td>Software Engineering &amp; DBMS</td>\n",
       "      <td>NaN</td>\n",
       "    </tr>\n",
       "    <tr>\n",
       "      <th>1</th>\n",
       "      <td>4</td>\n",
       "      <td>5</td>\n",
       "      <td>Dr. Waheed Noor</td>\n",
       "      <td>University of Balochistan</td>\n",
       "      <td>Computer Science &amp; IT</td>\n",
       "      <td>Balochistan</td>\n",
       "      <td>Assistant Professor</td>\n",
       "      <td>PhD</td>\n",
       "      <td>Asian Institute of Technology</td>\n",
       "      <td>Thailand</td>\n",
       "      <td>NaN</td>\n",
       "      <td>DBMS</td>\n",
       "      <td>NaN</td>\n",
       "    </tr>\n",
       "    <tr>\n",
       "      <th>2</th>\n",
       "      <td>5</td>\n",
       "      <td>6</td>\n",
       "      <td>Dr. Junaid Baber</td>\n",
       "      <td>University of Balochistan</td>\n",
       "      <td>Computer Science &amp; IT</td>\n",
       "      <td>Balochistan</td>\n",
       "      <td>Assistant Professor</td>\n",
       "      <td>PhD</td>\n",
       "      <td>Asian Institute of Technology</td>\n",
       "      <td>Thailand</td>\n",
       "      <td>NaN</td>\n",
       "      <td>Information processing, Multimedia mining</td>\n",
       "      <td>NaN</td>\n",
       "    </tr>\n",
       "    <tr>\n",
       "      <th>3</th>\n",
       "      <td>6</td>\n",
       "      <td>7</td>\n",
       "      <td>Dr. Maheen Bakhtyar</td>\n",
       "      <td>University of Balochistan</td>\n",
       "      <td>Computer Science &amp; IT</td>\n",
       "      <td>Balochistan</td>\n",
       "      <td>Assistant Professor</td>\n",
       "      <td>PhD</td>\n",
       "      <td>Asian Institute of Technology</td>\n",
       "      <td>Thailand</td>\n",
       "      <td>NaN</td>\n",
       "      <td>NLP, Information Retrieval, Question Answering...</td>\n",
       "      <td>NaN</td>\n",
       "    </tr>\n",
       "    <tr>\n",
       "      <th>4</th>\n",
       "      <td>24</td>\n",
       "      <td>25</td>\n",
       "      <td>Samina Azim</td>\n",
       "      <td>Sardar Bahadur Khan Women's University</td>\n",
       "      <td>Computer Science</td>\n",
       "      <td>Balochistan</td>\n",
       "      <td>Lecturer</td>\n",
       "      <td>BS</td>\n",
       "      <td>Balochistan University of Information Technolo...</td>\n",
       "      <td>Pakistan</td>\n",
       "      <td>2005.0</td>\n",
       "      <td>VLSI Electronics DLD Database</td>\n",
       "      <td>NaN</td>\n",
       "    </tr>\n",
       "  </tbody>\n",
       "</table>\n",
       "</div>"
      ],
      "text/plain": [
       "   Unnamed: 0  S#         Teacher Name  \\\n",
       "0           2   3      Dr. Abdul Basit   \n",
       "1           4   5      Dr. Waheed Noor   \n",
       "2           5   6     Dr. Junaid Baber   \n",
       "3           6   7  Dr. Maheen Bakhtyar   \n",
       "4          24  25          Samina Azim   \n",
       "\n",
       "            University Currently Teaching             Department  \\\n",
       "0               University of Balochistan  Computer Science & IT   \n",
       "1               University of Balochistan  Computer Science & IT   \n",
       "2               University of Balochistan  Computer Science & IT   \n",
       "3               University of Balochistan  Computer Science & IT   \n",
       "4  Sardar Bahadur Khan Women's University       Computer Science   \n",
       "\n",
       "  Province University Located          Designation Terminal Degree  \\\n",
       "0                 Balochistan  Assistant Professor             PhD   \n",
       "1                 Balochistan  Assistant Professor             PhD   \n",
       "2                 Balochistan  Assistant Professor             PhD   \n",
       "3                 Balochistan  Assistant Professor             PhD   \n",
       "4                 Balochistan             Lecturer              BS   \n",
       "\n",
       "                                      Graduated from   Country    Year  \\\n",
       "0                      Asian Institute of Technology  Thailand     NaN   \n",
       "1                      Asian Institute of Technology  Thailand     NaN   \n",
       "2                      Asian Institute of Technology  Thailand     NaN   \n",
       "3                      Asian Institute of Technology  Thailand     NaN   \n",
       "4  Balochistan University of Information Technolo...  Pakistan  2005.0   \n",
       "\n",
       "           Area of Specialization/Research Interests Other Information  \n",
       "0                        Software Engineering & DBMS               NaN  \n",
       "1                                               DBMS               NaN  \n",
       "2          Information processing, Multimedia mining               NaN  \n",
       "3  NLP, Information Retrieval, Question Answering...               NaN  \n",
       "4                      VLSI Electronics DLD Database               NaN  "
      ]
     },
     "execution_count": 27,
     "metadata": {},
     "output_type": "execute_result"
    }
   ],
   "source": [
    "professores = pd.read_csv(professors, encoding = 'utf-8')\n",
    "professores.head()"
   ]
  },
  {
   "cell_type": "markdown",
   "id": "e2876dc1-056f-4e51-8b3a-2155e351f2fa",
   "metadata": {},
   "source": [
    "## Pré-processamento de texto"
   ]
  },
  {
   "cell_type": "code",
   "execution_count": 28,
   "id": "1301f180-819b-4bf7-a045-946a2774d11d",
   "metadata": {},
   "outputs": [
    {
     "data": {
      "text/plain": [
       " Germany                2\n",
       " New Zealand            1\n",
       " Sweden                 1\n",
       " USA                    3\n",
       "Australia              10\n",
       "Austria                20\n",
       "Canada                  6\n",
       "China                  16\n",
       "Finland                 1\n",
       "France                 23\n",
       "Greece                  1\n",
       "HongKong                1\n",
       "Ireland                 3\n",
       "Italy                  17\n",
       "Japan                   3\n",
       "Macau                   1\n",
       "Malaysia               25\n",
       "Mauritius               1\n",
       "Netherland              6\n",
       "New Zealand             1\n",
       "Norway                  3\n",
       "Pakistan              776\n",
       "Portugal                2\n",
       "Russian Federation      1\n",
       "Saudi Arabia            1\n",
       "Scotland                1\n",
       "Singapore               3\n",
       "South Korea             8\n",
       "SouthKorea              7\n",
       "Spain                   3\n",
       "Sweden                 16\n",
       "Thailand               12\n",
       "Turkey                  1\n",
       "UK                     92\n",
       "USA                    42\n",
       "USofA                  10\n",
       "Urbana                  1\n",
       "germany                21\n",
       "Name: Country, dtype: int64"
      ]
     },
     "execution_count": 28,
     "metadata": {},
     "output_type": "execute_result"
    }
   ],
   "source": [
    "#Identificando a formatação dos dados\n",
    "professores['Country'].value_counts().sort_index()"
   ]
  },
  {
   "cell_type": "markdown",
   "id": "0fe232ea-2620-4c62-86f8-2029e872667f",
   "metadata": {},
   "source": [
    "### Corrigindo a formatação"
   ]
  },
  {
   "cell_type": "code",
   "execution_count": 29,
   "id": "f4fafee9-8a5a-4fd5-af18-56c38733cea7",
   "metadata": {},
   "outputs": [
    {
     "data": {
      "text/plain": [
       "australia              10\n",
       "austria                20\n",
       "canada                  6\n",
       "china                  16\n",
       "finland                 1\n",
       "france                 23\n",
       "germany                23\n",
       "greece                  1\n",
       "hongkong                1\n",
       "ireland                 3\n",
       "italy                  17\n",
       "japan                   3\n",
       "macau                   1\n",
       "malaysia               25\n",
       "mauritius               1\n",
       "netherland              6\n",
       "new zealand             2\n",
       "norway                  3\n",
       "pakistan              776\n",
       "portugal                2\n",
       "russian federation      1\n",
       "saudi arabia            1\n",
       "scotland                1\n",
       "singapore               3\n",
       "south korea             8\n",
       "southkorea              7\n",
       "spain                   3\n",
       "sweden                 17\n",
       "thailand               12\n",
       "turkey                  1\n",
       "uk                     92\n",
       "urbana                  1\n",
       "usa                    45\n",
       "usofa                  10\n",
       "Name: Country, dtype: int64"
      ]
     },
     "execution_count": 29,
     "metadata": {},
     "output_type": "execute_result"
    }
   ],
   "source": [
    "#Passando os nomes para minúsculo\n",
    "professores['Country'] = professores['Country'].str.lower() \n",
    "\n",
    "#Removendo os espaços iniciais\n",
    "professores['Country'] = professores['Country'].str.strip()\n",
    "\n",
    "professores['Country'].value_counts().sort_index()"
   ]
  },
  {
   "cell_type": "markdown",
   "id": "d479383e-c81e-46cc-9992-2676404d73bf",
   "metadata": {},
   "source": [
    "### Identificando palavras parecidas"
   ]
  },
  {
   "cell_type": "code",
   "execution_count": 30,
   "id": "06b6c852-3d1c-47c1-a6e3-94b0b74ca690",
   "metadata": {},
   "outputs": [
    {
     "data": {
      "text/plain": [
       "[('usa', 100),\n",
       " ('usofa', 75),\n",
       " ('austria', 60),\n",
       " ('australia', 50),\n",
       " ('spain', 50)]"
      ]
     },
     "execution_count": 30,
     "metadata": {},
     "output_type": "execute_result"
    }
   ],
   "source": [
    "#Identificando as 5 palavras mais próximas de 'usa'\n",
    "identificando_usa = fuzzywuzzy.process.extract('usa', \n",
    "                                               professores['Country'].unique(), \n",
    "                                               limit = 5, \n",
    "                                               scorer = fuzzywuzzy.fuzz.token_sort_ratio)\n",
    "identificando_usa"
   ]
  },
  {
   "cell_type": "code",
   "execution_count": 31,
   "id": "4015dc54-a912-43cb-a809-6c01b6d982f5",
   "metadata": {},
   "outputs": [],
   "source": [
    "#Definindo a função para substituir os valores\n",
    "def corrigindo_nomes(dataframe, coluna, match_de_string, nivel_proximidade):\n",
    "    #Recebendo uma lista de strings unicas\n",
    "    strings = dataframe[coluna].unique()\n",
    "    \n",
    "    #Encontrando as 5 palavras mais próximas do input\n",
    "    matches = fuzzywuzzy.process.extract(match_de_string, \n",
    "                                       strings, \n",
    "                                       limit = 5,\n",
    "                                      scorer = fuzzywuzzy.fuzz.token_sort_ratio)\n",
    "    \n",
    "    #Recebendo apenas os valores de match > 90\n",
    "    matches_proximos = [match[0] for match in matches if match[1] >= nivel_proximidade]\n",
    "    \n",
    "    #Recebendo as linhas que apresentam as strings encontradas\n",
    "    linhas_strings = dataframe[coluna].isin(matches_proximos)\n",
    "    \n",
    "    #Substituindo todas as linhas com match próximo do valor de input\n",
    "    dataframe.loc[linhas_strings, coluna] = match_de_string\n",
    "    \n",
    "    #Para saber se o processo foi finalizado\n",
    "    print('Finalizado')"
   ]
  },
  {
   "cell_type": "code",
   "execution_count": 32,
   "id": "07635546-080f-4462-b24e-fbd606953d43",
   "metadata": {},
   "outputs": [
    {
     "name": "stdout",
     "output_type": "stream",
     "text": [
      "Finalizado\n",
      "Finalizado\n"
     ]
    }
   ],
   "source": [
    "#Corrigindo o nome próximos de usa\n",
    "corrigindo_nomes(dataframe = professores, \n",
    "                 coluna = 'Country',\n",
    "                match_de_string = 'usa',\n",
    "                nivel_proximidade = 75)\n",
    "\n",
    "#Corrigindo o nome próximos de south korea\n",
    "corrigindo_nomes(dataframe = professores, \n",
    "                 coluna = 'Country',\n",
    "                match_de_string = 'south korea',\n",
    "                nivel_proximidade = 48)"
   ]
  },
  {
   "cell_type": "code",
   "execution_count": 33,
   "id": "09e7141c-ac51-4d60-9204-25ba1aaded44",
   "metadata": {},
   "outputs": [
    {
     "data": {
      "text/plain": [
       "australia              10\n",
       "austria                20\n",
       "canada                  6\n",
       "china                  16\n",
       "finland                 1\n",
       "france                 23\n",
       "germany                23\n",
       "greece                  1\n",
       "hongkong                1\n",
       "ireland                 3\n",
       "italy                  17\n",
       "japan                   3\n",
       "macau                   1\n",
       "malaysia               25\n",
       "mauritius               1\n",
       "netherland              6\n",
       "new zealand             2\n",
       "norway                  3\n",
       "pakistan              776\n",
       "portugal                2\n",
       "russian federation      1\n",
       "saudi arabia            1\n",
       "scotland                1\n",
       "singapore               3\n",
       "south korea            15\n",
       "spain                   3\n",
       "sweden                 17\n",
       "thailand               12\n",
       "turkey                  1\n",
       "uk                     92\n",
       "urbana                  1\n",
       "usa                    55\n",
       "Name: Country, dtype: int64"
      ]
     },
     "execution_count": 33,
     "metadata": {},
     "output_type": "execute_result"
    }
   ],
   "source": [
    "professores['Country'].value_counts().sort_index()"
   ]
  },
  {
   "cell_type": "code",
   "execution_count": null,
   "id": "04fffa0f-c0b4-4d49-bb18-6b3ea5767932",
   "metadata": {},
   "outputs": [],
   "source": []
  }
 ],
 "metadata": {
  "kernelspec": {
   "display_name": "Python 3 (ipykernel)",
   "language": "python",
   "name": "python3"
  },
  "language_info": {
   "codemirror_mode": {
    "name": "ipython",
    "version": 3
   },
   "file_extension": ".py",
   "mimetype": "text/x-python",
   "name": "python",
   "nbconvert_exporter": "python",
   "pygments_lexer": "ipython3",
   "version": "3.10.9"
  }
 },
 "nbformat": 4,
 "nbformat_minor": 5
}
