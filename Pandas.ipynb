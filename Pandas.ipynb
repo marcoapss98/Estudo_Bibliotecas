{
 "cells": [
  {
   "cell_type": "markdown",
   "id": "088e1f12-4c23-4240-a69c-64fb8ce74bae",
   "metadata": {},
   "source": [
    "# Sobre as anotações\n",
    "Esses códigos foram realizados junto ao curso disponível no kaggle: https://www.kaggle.com/learn/pandas\n",
    "\n",
    "Para melhor contextualização, basta acessar minhas anotações pessoais realizadas ao longo do curso: https://docs.google.com/document/d/1gSs2Japr-4t2jClWWUyMLNHcaBqjPqzAs18-hBiWfwk/edit?usp=sharing"
   ]
  },
  {
   "cell_type": "code",
   "execution_count": 1,
   "id": "5151f077-bfba-4c11-ad5c-cf01162f456a",
   "metadata": {},
   "outputs": [],
   "source": [
    "import pandas as pd"
   ]
  },
  {
   "cell_type": "markdown",
   "id": "8a9c4095-c13a-479e-b5a5-3589f42c41b5",
   "metadata": {},
   "source": [
    "# Criando, lendo e escrevendo"
   ]
  },
  {
   "cell_type": "code",
   "execution_count": 2,
   "id": "6a8f6d17-74d0-4b33-b9a3-40015a9be4db",
   "metadata": {},
   "outputs": [
    {
     "data": {
      "text/html": [
       "<div>\n",
       "<style scoped>\n",
       "    .dataframe tbody tr th:only-of-type {\n",
       "        vertical-align: middle;\n",
       "    }\n",
       "\n",
       "    .dataframe tbody tr th {\n",
       "        vertical-align: top;\n",
       "    }\n",
       "\n",
       "    .dataframe thead th {\n",
       "        text-align: right;\n",
       "    }\n",
       "</style>\n",
       "<table border=\"1\" class=\"dataframe\">\n",
       "  <thead>\n",
       "    <tr style=\"text-align: right;\">\n",
       "      <th></th>\n",
       "      <th>Eletrônicos</th>\n",
       "      <th>Marca</th>\n",
       "    </tr>\n",
       "  </thead>\n",
       "  <tbody>\n",
       "    <tr>\n",
       "      <th>0</th>\n",
       "      <td>Computador</td>\n",
       "      <td>Lenovo</td>\n",
       "    </tr>\n",
       "    <tr>\n",
       "      <th>1</th>\n",
       "      <td>Celular</td>\n",
       "      <td>Motorola</td>\n",
       "    </tr>\n",
       "    <tr>\n",
       "      <th>2</th>\n",
       "      <td>Tablet</td>\n",
       "      <td>Apple</td>\n",
       "    </tr>\n",
       "  </tbody>\n",
       "</table>\n",
       "</div>"
      ],
      "text/plain": [
       "  Eletrônicos     Marca\n",
       "0  Computador    Lenovo\n",
       "1     Celular  Motorola\n",
       "2      Tablet     Apple"
      ]
     },
     "execution_count": 2,
     "metadata": {},
     "output_type": "execute_result"
    }
   ],
   "source": [
    "#Criando um DataFrame\n",
    "eletronicos_marca = pd.DataFrame({'Eletrônicos' : ['Computador', 'Celular', 'Tablet'],\n",
    "                                 'Marca' : ['Lenovo', 'Motorola', 'Apple']})\n",
    "\n",
    "eletronicos_marca"
   ]
  },
  {
   "cell_type": "code",
   "execution_count": 3,
   "id": "97ef44a9-21fc-4511-96be-5b6e9de1107d",
   "metadata": {},
   "outputs": [
    {
     "data": {
      "text/html": [
       "<div>\n",
       "<style scoped>\n",
       "    .dataframe tbody tr th:only-of-type {\n",
       "        vertical-align: middle;\n",
       "    }\n",
       "\n",
       "    .dataframe tbody tr th {\n",
       "        vertical-align: top;\n",
       "    }\n",
       "\n",
       "    .dataframe thead th {\n",
       "        text-align: right;\n",
       "    }\n",
       "</style>\n",
       "<table border=\"1\" class=\"dataframe\">\n",
       "  <thead>\n",
       "    <tr style=\"text-align: right;\">\n",
       "      <th></th>\n",
       "      <th>Eletrônicos</th>\n",
       "      <th>Marca</th>\n",
       "    </tr>\n",
       "  </thead>\n",
       "  <tbody>\n",
       "    <tr>\n",
       "      <th>A</th>\n",
       "      <td>Computador</td>\n",
       "      <td>Lenovo</td>\n",
       "    </tr>\n",
       "    <tr>\n",
       "      <th>B</th>\n",
       "      <td>Celular</td>\n",
       "      <td>Motorola</td>\n",
       "    </tr>\n",
       "    <tr>\n",
       "      <th>C</th>\n",
       "      <td>Tablet</td>\n",
       "      <td>Apple</td>\n",
       "    </tr>\n",
       "  </tbody>\n",
       "</table>\n",
       "</div>"
      ],
      "text/plain": [
       "  Eletrônicos     Marca\n",
       "A  Computador    Lenovo\n",
       "B     Celular  Motorola\n",
       "C      Tablet     Apple"
      ]
     },
     "execution_count": 3,
     "metadata": {},
     "output_type": "execute_result"
    }
   ],
   "source": [
    "#Alterando o index de um DataFrame\n",
    "eletronico_marca = pd.DataFrame({'Eletrônicos' : ['Computador', 'Celular', 'Tablet'],\n",
    "                                 'Marca' : ['Lenovo', 'Motorola', 'Apple']},\n",
    "                                index=['A', 'B', 'C'])\n",
    "\n",
    "eletronico_marca"
   ]
  },
  {
   "cell_type": "code",
   "execution_count": 4,
   "id": "bff531c7-fdff-42a8-9496-8874361850d8",
   "metadata": {},
   "outputs": [
    {
     "data": {
      "text/plain": [
       "0    Computador\n",
       "1       Celular\n",
       "2        Tablet\n",
       "dtype: object"
      ]
     },
     "execution_count": 4,
     "metadata": {},
     "output_type": "execute_result"
    }
   ],
   "source": [
    "#Criando uma Serie\n",
    "serie = pd.Series(['Computador', 'Celular', 'Tablet'])\n",
    "\n",
    "serie"
   ]
  },
  {
   "cell_type": "code",
   "execution_count": 5,
   "id": "4e7b6271-a36d-4fd1-aaa3-3ea1545a7879",
   "metadata": {},
   "outputs": [
    {
     "data": {
      "text/plain": [
       "A    Computador\n",
       "B       Celular\n",
       "C        Tablet\n",
       "Name: Eletrônicos, dtype: object"
      ]
     },
     "execution_count": 5,
     "metadata": {},
     "output_type": "execute_result"
    }
   ],
   "source": [
    "#Alterando o index e adicionando um nome a Serie\n",
    "serie = pd.Series(['Computador', 'Celular', 'Tablet'], \n",
    "                  index=['A', 'B', 'C'], \n",
    "                  name= 'Eletrônicos')\n",
    "\n",
    "serie"
   ]
  },
  {
   "cell_type": "code",
   "execution_count": 6,
   "id": "deee949d-feca-48b6-acf1-24ec06264d2c",
   "metadata": {},
   "outputs": [
    {
     "ename": "FileNotFoundError",
     "evalue": "[Errno 2] No such file or directory: 'C:\\\\Users\\\\marco\\\\Projetos\\\\Python\\\\Titanic challenge\\\\train.csv'",
     "output_type": "error",
     "traceback": [
      "\u001b[1;31m---------------------------------------------------------------------------\u001b[0m",
      "\u001b[1;31mFileNotFoundError\u001b[0m                         Traceback (most recent call last)",
      "Cell \u001b[1;32mIn[6], line 2\u001b[0m\n\u001b[0;32m      1\u001b[0m \u001b[38;5;66;03m#### Lendo um arquivo CSV\u001b[39;00m\n\u001b[1;32m----> 2\u001b[0m arquivo \u001b[38;5;241m=\u001b[39m \u001b[43mpd\u001b[49m\u001b[38;5;241;43m.\u001b[39;49m\u001b[43mread_csv\u001b[49m\u001b[43m(\u001b[49m\u001b[38;5;124;43mr\u001b[39;49m\u001b[38;5;124;43m'\u001b[39;49m\u001b[38;5;124;43mC:\u001b[39;49m\u001b[38;5;124;43m\\\u001b[39;49m\u001b[38;5;124;43mUsers\u001b[39;49m\u001b[38;5;124;43m\\\u001b[39;49m\u001b[38;5;124;43mmarco\u001b[39;49m\u001b[38;5;124;43m\\\u001b[39;49m\u001b[38;5;124;43mProjetos\u001b[39;49m\u001b[38;5;124;43m\\\u001b[39;49m\u001b[38;5;124;43mPython\u001b[39;49m\u001b[38;5;124;43m\\\u001b[39;49m\u001b[38;5;124;43mTitanic challenge\u001b[39;49m\u001b[38;5;124;43m\\\u001b[39;49m\u001b[38;5;124;43mtrain.csv\u001b[39;49m\u001b[38;5;124;43m'\u001b[39;49m\u001b[43m,\u001b[49m\u001b[43m \u001b[49m\u001b[43msep\u001b[49m\u001b[43m \u001b[49m\u001b[38;5;241;43m=\u001b[39;49m\u001b[43m \u001b[49m\u001b[38;5;124;43m'\u001b[39;49m\u001b[38;5;124;43m,\u001b[39;49m\u001b[38;5;124;43m'\u001b[39;49m\u001b[43m)\u001b[49m\n\u001b[0;32m      3\u001b[0m arquivo\n",
      "File \u001b[1;32m~\\anaconda3\\lib\\site-packages\\pandas\\util\\_decorators.py:211\u001b[0m, in \u001b[0;36mdeprecate_kwarg.<locals>._deprecate_kwarg.<locals>.wrapper\u001b[1;34m(*args, **kwargs)\u001b[0m\n\u001b[0;32m    209\u001b[0m     \u001b[38;5;28;01melse\u001b[39;00m:\n\u001b[0;32m    210\u001b[0m         kwargs[new_arg_name] \u001b[38;5;241m=\u001b[39m new_arg_value\n\u001b[1;32m--> 211\u001b[0m \u001b[38;5;28;01mreturn\u001b[39;00m func(\u001b[38;5;241m*\u001b[39margs, \u001b[38;5;241m*\u001b[39m\u001b[38;5;241m*\u001b[39mkwargs)\n",
      "File \u001b[1;32m~\\anaconda3\\lib\\site-packages\\pandas\\util\\_decorators.py:331\u001b[0m, in \u001b[0;36mdeprecate_nonkeyword_arguments.<locals>.decorate.<locals>.wrapper\u001b[1;34m(*args, **kwargs)\u001b[0m\n\u001b[0;32m    325\u001b[0m \u001b[38;5;28;01mif\u001b[39;00m \u001b[38;5;28mlen\u001b[39m(args) \u001b[38;5;241m>\u001b[39m num_allow_args:\n\u001b[0;32m    326\u001b[0m     warnings\u001b[38;5;241m.\u001b[39mwarn(\n\u001b[0;32m    327\u001b[0m         msg\u001b[38;5;241m.\u001b[39mformat(arguments\u001b[38;5;241m=\u001b[39m_format_argument_list(allow_args)),\n\u001b[0;32m    328\u001b[0m         \u001b[38;5;167;01mFutureWarning\u001b[39;00m,\n\u001b[0;32m    329\u001b[0m         stacklevel\u001b[38;5;241m=\u001b[39mfind_stack_level(),\n\u001b[0;32m    330\u001b[0m     )\n\u001b[1;32m--> 331\u001b[0m \u001b[38;5;28;01mreturn\u001b[39;00m func(\u001b[38;5;241m*\u001b[39margs, \u001b[38;5;241m*\u001b[39m\u001b[38;5;241m*\u001b[39mkwargs)\n",
      "File \u001b[1;32m~\\anaconda3\\lib\\site-packages\\pandas\\io\\parsers\\readers.py:950\u001b[0m, in \u001b[0;36mread_csv\u001b[1;34m(filepath_or_buffer, sep, delimiter, header, names, index_col, usecols, squeeze, prefix, mangle_dupe_cols, dtype, engine, converters, true_values, false_values, skipinitialspace, skiprows, skipfooter, nrows, na_values, keep_default_na, na_filter, verbose, skip_blank_lines, parse_dates, infer_datetime_format, keep_date_col, date_parser, dayfirst, cache_dates, iterator, chunksize, compression, thousands, decimal, lineterminator, quotechar, quoting, doublequote, escapechar, comment, encoding, encoding_errors, dialect, error_bad_lines, warn_bad_lines, on_bad_lines, delim_whitespace, low_memory, memory_map, float_precision, storage_options)\u001b[0m\n\u001b[0;32m    935\u001b[0m kwds_defaults \u001b[38;5;241m=\u001b[39m _refine_defaults_read(\n\u001b[0;32m    936\u001b[0m     dialect,\n\u001b[0;32m    937\u001b[0m     delimiter,\n\u001b[1;32m   (...)\u001b[0m\n\u001b[0;32m    946\u001b[0m     defaults\u001b[38;5;241m=\u001b[39m{\u001b[38;5;124m\"\u001b[39m\u001b[38;5;124mdelimiter\u001b[39m\u001b[38;5;124m\"\u001b[39m: \u001b[38;5;124m\"\u001b[39m\u001b[38;5;124m,\u001b[39m\u001b[38;5;124m\"\u001b[39m},\n\u001b[0;32m    947\u001b[0m )\n\u001b[0;32m    948\u001b[0m kwds\u001b[38;5;241m.\u001b[39mupdate(kwds_defaults)\n\u001b[1;32m--> 950\u001b[0m \u001b[38;5;28;01mreturn\u001b[39;00m \u001b[43m_read\u001b[49m\u001b[43m(\u001b[49m\u001b[43mfilepath_or_buffer\u001b[49m\u001b[43m,\u001b[49m\u001b[43m \u001b[49m\u001b[43mkwds\u001b[49m\u001b[43m)\u001b[49m\n",
      "File \u001b[1;32m~\\anaconda3\\lib\\site-packages\\pandas\\io\\parsers\\readers.py:605\u001b[0m, in \u001b[0;36m_read\u001b[1;34m(filepath_or_buffer, kwds)\u001b[0m\n\u001b[0;32m    602\u001b[0m _validate_names(kwds\u001b[38;5;241m.\u001b[39mget(\u001b[38;5;124m\"\u001b[39m\u001b[38;5;124mnames\u001b[39m\u001b[38;5;124m\"\u001b[39m, \u001b[38;5;28;01mNone\u001b[39;00m))\n\u001b[0;32m    604\u001b[0m \u001b[38;5;66;03m# Create the parser.\u001b[39;00m\n\u001b[1;32m--> 605\u001b[0m parser \u001b[38;5;241m=\u001b[39m TextFileReader(filepath_or_buffer, \u001b[38;5;241m*\u001b[39m\u001b[38;5;241m*\u001b[39mkwds)\n\u001b[0;32m    607\u001b[0m \u001b[38;5;28;01mif\u001b[39;00m chunksize \u001b[38;5;129;01mor\u001b[39;00m iterator:\n\u001b[0;32m    608\u001b[0m     \u001b[38;5;28;01mreturn\u001b[39;00m parser\n",
      "File \u001b[1;32m~\\anaconda3\\lib\\site-packages\\pandas\\io\\parsers\\readers.py:1442\u001b[0m, in \u001b[0;36mTextFileReader.__init__\u001b[1;34m(self, f, engine, **kwds)\u001b[0m\n\u001b[0;32m   1439\u001b[0m     \u001b[38;5;28mself\u001b[39m\u001b[38;5;241m.\u001b[39moptions[\u001b[38;5;124m\"\u001b[39m\u001b[38;5;124mhas_index_names\u001b[39m\u001b[38;5;124m\"\u001b[39m] \u001b[38;5;241m=\u001b[39m kwds[\u001b[38;5;124m\"\u001b[39m\u001b[38;5;124mhas_index_names\u001b[39m\u001b[38;5;124m\"\u001b[39m]\n\u001b[0;32m   1441\u001b[0m \u001b[38;5;28mself\u001b[39m\u001b[38;5;241m.\u001b[39mhandles: IOHandles \u001b[38;5;241m|\u001b[39m \u001b[38;5;28;01mNone\u001b[39;00m \u001b[38;5;241m=\u001b[39m \u001b[38;5;28;01mNone\u001b[39;00m\n\u001b[1;32m-> 1442\u001b[0m \u001b[38;5;28mself\u001b[39m\u001b[38;5;241m.\u001b[39m_engine \u001b[38;5;241m=\u001b[39m \u001b[38;5;28;43mself\u001b[39;49m\u001b[38;5;241;43m.\u001b[39;49m\u001b[43m_make_engine\u001b[49m\u001b[43m(\u001b[49m\u001b[43mf\u001b[49m\u001b[43m,\u001b[49m\u001b[43m \u001b[49m\u001b[38;5;28;43mself\u001b[39;49m\u001b[38;5;241;43m.\u001b[39;49m\u001b[43mengine\u001b[49m\u001b[43m)\u001b[49m\n",
      "File \u001b[1;32m~\\anaconda3\\lib\\site-packages\\pandas\\io\\parsers\\readers.py:1735\u001b[0m, in \u001b[0;36mTextFileReader._make_engine\u001b[1;34m(self, f, engine)\u001b[0m\n\u001b[0;32m   1733\u001b[0m     \u001b[38;5;28;01mif\u001b[39;00m \u001b[38;5;124m\"\u001b[39m\u001b[38;5;124mb\u001b[39m\u001b[38;5;124m\"\u001b[39m \u001b[38;5;129;01mnot\u001b[39;00m \u001b[38;5;129;01min\u001b[39;00m mode:\n\u001b[0;32m   1734\u001b[0m         mode \u001b[38;5;241m+\u001b[39m\u001b[38;5;241m=\u001b[39m \u001b[38;5;124m\"\u001b[39m\u001b[38;5;124mb\u001b[39m\u001b[38;5;124m\"\u001b[39m\n\u001b[1;32m-> 1735\u001b[0m \u001b[38;5;28mself\u001b[39m\u001b[38;5;241m.\u001b[39mhandles \u001b[38;5;241m=\u001b[39m \u001b[43mget_handle\u001b[49m\u001b[43m(\u001b[49m\n\u001b[0;32m   1736\u001b[0m \u001b[43m    \u001b[49m\u001b[43mf\u001b[49m\u001b[43m,\u001b[49m\n\u001b[0;32m   1737\u001b[0m \u001b[43m    \u001b[49m\u001b[43mmode\u001b[49m\u001b[43m,\u001b[49m\n\u001b[0;32m   1738\u001b[0m \u001b[43m    \u001b[49m\u001b[43mencoding\u001b[49m\u001b[38;5;241;43m=\u001b[39;49m\u001b[38;5;28;43mself\u001b[39;49m\u001b[38;5;241;43m.\u001b[39;49m\u001b[43moptions\u001b[49m\u001b[38;5;241;43m.\u001b[39;49m\u001b[43mget\u001b[49m\u001b[43m(\u001b[49m\u001b[38;5;124;43m\"\u001b[39;49m\u001b[38;5;124;43mencoding\u001b[39;49m\u001b[38;5;124;43m\"\u001b[39;49m\u001b[43m,\u001b[49m\u001b[43m \u001b[49m\u001b[38;5;28;43;01mNone\u001b[39;49;00m\u001b[43m)\u001b[49m\u001b[43m,\u001b[49m\n\u001b[0;32m   1739\u001b[0m \u001b[43m    \u001b[49m\u001b[43mcompression\u001b[49m\u001b[38;5;241;43m=\u001b[39;49m\u001b[38;5;28;43mself\u001b[39;49m\u001b[38;5;241;43m.\u001b[39;49m\u001b[43moptions\u001b[49m\u001b[38;5;241;43m.\u001b[39;49m\u001b[43mget\u001b[49m\u001b[43m(\u001b[49m\u001b[38;5;124;43m\"\u001b[39;49m\u001b[38;5;124;43mcompression\u001b[39;49m\u001b[38;5;124;43m\"\u001b[39;49m\u001b[43m,\u001b[49m\u001b[43m \u001b[49m\u001b[38;5;28;43;01mNone\u001b[39;49;00m\u001b[43m)\u001b[49m\u001b[43m,\u001b[49m\n\u001b[0;32m   1740\u001b[0m \u001b[43m    \u001b[49m\u001b[43mmemory_map\u001b[49m\u001b[38;5;241;43m=\u001b[39;49m\u001b[38;5;28;43mself\u001b[39;49m\u001b[38;5;241;43m.\u001b[39;49m\u001b[43moptions\u001b[49m\u001b[38;5;241;43m.\u001b[39;49m\u001b[43mget\u001b[49m\u001b[43m(\u001b[49m\u001b[38;5;124;43m\"\u001b[39;49m\u001b[38;5;124;43mmemory_map\u001b[39;49m\u001b[38;5;124;43m\"\u001b[39;49m\u001b[43m,\u001b[49m\u001b[43m \u001b[49m\u001b[38;5;28;43;01mFalse\u001b[39;49;00m\u001b[43m)\u001b[49m\u001b[43m,\u001b[49m\n\u001b[0;32m   1741\u001b[0m \u001b[43m    \u001b[49m\u001b[43mis_text\u001b[49m\u001b[38;5;241;43m=\u001b[39;49m\u001b[43mis_text\u001b[49m\u001b[43m,\u001b[49m\n\u001b[0;32m   1742\u001b[0m \u001b[43m    \u001b[49m\u001b[43merrors\u001b[49m\u001b[38;5;241;43m=\u001b[39;49m\u001b[38;5;28;43mself\u001b[39;49m\u001b[38;5;241;43m.\u001b[39;49m\u001b[43moptions\u001b[49m\u001b[38;5;241;43m.\u001b[39;49m\u001b[43mget\u001b[49m\u001b[43m(\u001b[49m\u001b[38;5;124;43m\"\u001b[39;49m\u001b[38;5;124;43mencoding_errors\u001b[39;49m\u001b[38;5;124;43m\"\u001b[39;49m\u001b[43m,\u001b[49m\u001b[43m \u001b[49m\u001b[38;5;124;43m\"\u001b[39;49m\u001b[38;5;124;43mstrict\u001b[39;49m\u001b[38;5;124;43m\"\u001b[39;49m\u001b[43m)\u001b[49m\u001b[43m,\u001b[49m\n\u001b[0;32m   1743\u001b[0m \u001b[43m    \u001b[49m\u001b[43mstorage_options\u001b[49m\u001b[38;5;241;43m=\u001b[39;49m\u001b[38;5;28;43mself\u001b[39;49m\u001b[38;5;241;43m.\u001b[39;49m\u001b[43moptions\u001b[49m\u001b[38;5;241;43m.\u001b[39;49m\u001b[43mget\u001b[49m\u001b[43m(\u001b[49m\u001b[38;5;124;43m\"\u001b[39;49m\u001b[38;5;124;43mstorage_options\u001b[39;49m\u001b[38;5;124;43m\"\u001b[39;49m\u001b[43m,\u001b[49m\u001b[43m \u001b[49m\u001b[38;5;28;43;01mNone\u001b[39;49;00m\u001b[43m)\u001b[49m\u001b[43m,\u001b[49m\n\u001b[0;32m   1744\u001b[0m \u001b[43m\u001b[49m\u001b[43m)\u001b[49m\n\u001b[0;32m   1745\u001b[0m \u001b[38;5;28;01massert\u001b[39;00m \u001b[38;5;28mself\u001b[39m\u001b[38;5;241m.\u001b[39mhandles \u001b[38;5;129;01mis\u001b[39;00m \u001b[38;5;129;01mnot\u001b[39;00m \u001b[38;5;28;01mNone\u001b[39;00m\n\u001b[0;32m   1746\u001b[0m f \u001b[38;5;241m=\u001b[39m \u001b[38;5;28mself\u001b[39m\u001b[38;5;241m.\u001b[39mhandles\u001b[38;5;241m.\u001b[39mhandle\n",
      "File \u001b[1;32m~\\anaconda3\\lib\\site-packages\\pandas\\io\\common.py:856\u001b[0m, in \u001b[0;36mget_handle\u001b[1;34m(path_or_buf, mode, encoding, compression, memory_map, is_text, errors, storage_options)\u001b[0m\n\u001b[0;32m    851\u001b[0m \u001b[38;5;28;01melif\u001b[39;00m \u001b[38;5;28misinstance\u001b[39m(handle, \u001b[38;5;28mstr\u001b[39m):\n\u001b[0;32m    852\u001b[0m     \u001b[38;5;66;03m# Check whether the filename is to be opened in binary mode.\u001b[39;00m\n\u001b[0;32m    853\u001b[0m     \u001b[38;5;66;03m# Binary mode does not support 'encoding' and 'newline'.\u001b[39;00m\n\u001b[0;32m    854\u001b[0m     \u001b[38;5;28;01mif\u001b[39;00m ioargs\u001b[38;5;241m.\u001b[39mencoding \u001b[38;5;129;01mand\u001b[39;00m \u001b[38;5;124m\"\u001b[39m\u001b[38;5;124mb\u001b[39m\u001b[38;5;124m\"\u001b[39m \u001b[38;5;129;01mnot\u001b[39;00m \u001b[38;5;129;01min\u001b[39;00m ioargs\u001b[38;5;241m.\u001b[39mmode:\n\u001b[0;32m    855\u001b[0m         \u001b[38;5;66;03m# Encoding\u001b[39;00m\n\u001b[1;32m--> 856\u001b[0m         handle \u001b[38;5;241m=\u001b[39m \u001b[38;5;28;43mopen\u001b[39;49m\u001b[43m(\u001b[49m\n\u001b[0;32m    857\u001b[0m \u001b[43m            \u001b[49m\u001b[43mhandle\u001b[49m\u001b[43m,\u001b[49m\n\u001b[0;32m    858\u001b[0m \u001b[43m            \u001b[49m\u001b[43mioargs\u001b[49m\u001b[38;5;241;43m.\u001b[39;49m\u001b[43mmode\u001b[49m\u001b[43m,\u001b[49m\n\u001b[0;32m    859\u001b[0m \u001b[43m            \u001b[49m\u001b[43mencoding\u001b[49m\u001b[38;5;241;43m=\u001b[39;49m\u001b[43mioargs\u001b[49m\u001b[38;5;241;43m.\u001b[39;49m\u001b[43mencoding\u001b[49m\u001b[43m,\u001b[49m\n\u001b[0;32m    860\u001b[0m \u001b[43m            \u001b[49m\u001b[43merrors\u001b[49m\u001b[38;5;241;43m=\u001b[39;49m\u001b[43merrors\u001b[49m\u001b[43m,\u001b[49m\n\u001b[0;32m    861\u001b[0m \u001b[43m            \u001b[49m\u001b[43mnewline\u001b[49m\u001b[38;5;241;43m=\u001b[39;49m\u001b[38;5;124;43m\"\u001b[39;49m\u001b[38;5;124;43m\"\u001b[39;49m\u001b[43m,\u001b[49m\n\u001b[0;32m    862\u001b[0m \u001b[43m        \u001b[49m\u001b[43m)\u001b[49m\n\u001b[0;32m    863\u001b[0m     \u001b[38;5;28;01melse\u001b[39;00m:\n\u001b[0;32m    864\u001b[0m         \u001b[38;5;66;03m# Binary mode\u001b[39;00m\n\u001b[0;32m    865\u001b[0m         handle \u001b[38;5;241m=\u001b[39m \u001b[38;5;28mopen\u001b[39m(handle, ioargs\u001b[38;5;241m.\u001b[39mmode)\n",
      "\u001b[1;31mFileNotFoundError\u001b[0m: [Errno 2] No such file or directory: 'C:\\\\Users\\\\marco\\\\Projetos\\\\Python\\\\Titanic challenge\\\\train.csv'"
     ]
    }
   ],
   "source": [
    "#### Lendo um arquivo CSV\n",
    "arquivo = pd.read_csv(r'C:\\Users\\marco\\Projetos\\Python\\Titanic challenge\\train.csv', sep = ',')\n",
    "arquivo"
   ]
  },
  {
   "cell_type": "markdown",
   "id": "6594825a-fbe9-43f2-8c99-5eae01a9432e",
   "metadata": {},
   "source": [
    "#### Salvando o DataFrame no disco\n",
    "eletronico_marca.to_csv('teste')"
   ]
  },
  {
   "cell_type": "markdown",
   "id": "08125de0-d612-4e55-ac02-9854f4d56f6a",
   "metadata": {},
   "source": [
    "# Indexação, seleção de & Atribuir"
   ]
  },
  {
   "cell_type": "code",
   "execution_count": null,
   "id": "d4a80dd6-3e59-4611-9b73-c2fa621fa6b8",
   "metadata": {},
   "outputs": [],
   "source": [
    "#Acessando uma coluna\n",
    "arquivo.Sex"
   ]
  },
  {
   "cell_type": "code",
   "execution_count": null,
   "id": "b64014ec-44be-44bd-b2c0-8947900a1a77",
   "metadata": {},
   "outputs": [],
   "source": [
    "#Acessando uma coluna por indexação\n",
    "arquivo['Sex']"
   ]
  },
  {
   "cell_type": "code",
   "execution_count": null,
   "id": "43138508-4e34-4e71-b25f-4c77e92390e3",
   "metadata": {},
   "outputs": [],
   "source": [
    "#Acessando o index de uma coluna\n",
    "arquivo['Sex'][0]"
   ]
  },
  {
   "cell_type": "markdown",
   "id": "402f4bb8-c80d-4b36-b30f-87e660e22926",
   "metadata": {},
   "source": [
    "### Index-based (método .iloc)"
   ]
  },
  {
   "cell_type": "code",
   "execution_count": null,
   "id": "4b6a7f6b-3807-48b4-8dcc-1da82d862343",
   "metadata": {},
   "outputs": [],
   "source": [
    "#Selecionando a primeira linha\n",
    "arquivo.iloc[0]"
   ]
  },
  {
   "cell_type": "code",
   "execution_count": null,
   "id": "ff5a4500-25c6-4501-96d0-d35c534aa6c2",
   "metadata": {},
   "outputs": [],
   "source": [
    "#Selecionando a todas as linhas da primeira coluna\n",
    "arquivo.iloc[:, 0]"
   ]
  },
  {
   "cell_type": "code",
   "execution_count": null,
   "id": "5edc8b1d-04e6-4cb8-abe3-acffb9ad374f",
   "metadata": {},
   "outputs": [],
   "source": [
    "#Selecionando a todas as linhas da primeira à terceira coluna\n",
    "arquivo.iloc[:5, :3]"
   ]
  },
  {
   "cell_type": "code",
   "execution_count": null,
   "id": "560d8bcf-cd15-4468-8ddc-00c10de0741b",
   "metadata": {},
   "outputs": [],
   "source": [
    "#Selecionando index desejados em forma de lista\n",
    "arquivo.iloc[[0, 3, 5], [0, 3, 5]]"
   ]
  },
  {
   "cell_type": "code",
   "execution_count": null,
   "id": "4b9f8a54-67e3-4622-abb4-4ae806802ad8",
   "metadata": {},
   "outputs": [],
   "source": [
    "#Invertendo index de crescente para decrescente\n",
    "arquivo.iloc[-5:, -1:]"
   ]
  },
  {
   "cell_type": "markdown",
   "id": "ab9cbec0-a8f6-46af-a17b-b1a2dad2a6b0",
   "metadata": {},
   "source": [
    "### Label-based selection (método .loc)"
   ]
  },
  {
   "cell_type": "code",
   "execution_count": null,
   "id": "242ccdea-81e7-4fd2-bafd-27b20faec37b",
   "metadata": {},
   "outputs": [],
   "source": [
    "#Selecionando uma coluna\n",
    "arquivo.loc[:, 'Sex']"
   ]
  },
  {
   "cell_type": "code",
   "execution_count": null,
   "id": "5e61971a-cf4d-4fa5-b1b8-d1bc75ea7c12",
   "metadata": {},
   "outputs": [],
   "source": [
    "#Selecionando mais de uma coluna\n",
    "arquivo.loc[:5, ['Sex', 'Name']]"
   ]
  },
  {
   "cell_type": "code",
   "execution_count": null,
   "id": "61cce0e5-b478-4cad-8d56-b60b522c3d66",
   "metadata": {},
   "outputs": [],
   "source": [
    "#Substituindo o index por uma coluna\n",
    "arquivo.set_index('Sex')"
   ]
  },
  {
   "cell_type": "markdown",
   "id": "db2764c5-4f08-4a71-9a02-92bee2124425",
   "metadata": {},
   "source": [
    "### Seleção condicional"
   ]
  },
  {
   "cell_type": "code",
   "execution_count": null,
   "id": "2b235587-08a4-42c7-816d-a843697cf2c6",
   "metadata": {},
   "outputs": [],
   "source": [
    "#Identificando se o passageiro é do gênero masculino\n",
    "arquivo.Sex == 'male'"
   ]
  },
  {
   "cell_type": "code",
   "execution_count": null,
   "id": "6ce502f7-8bf7-4b9b-84db-e1ac4e22afcc",
   "metadata": {},
   "outputs": [],
   "source": [
    "#Filtrando passageiros do gênero masculino\n",
    "arquivo.loc[arquivo.Sex == 'male']"
   ]
  },
  {
   "cell_type": "code",
   "execution_count": null,
   "id": "4869ad7b-360e-45b4-89e4-efd608be5b06",
   "metadata": {},
   "outputs": [],
   "source": [
    "#Filtrando passageiros do gênero masculino E com idade >= 30\n",
    "arquivo.loc[(arquivo.Sex == 'male') & (arquivo.Age >= 30)]"
   ]
  },
  {
   "cell_type": "code",
   "execution_count": null,
   "id": "6c166e6d-0e41-457c-8060-9ded9d2d39b4",
   "metadata": {},
   "outputs": [],
   "source": [
    "#Filtrando passageiros do gênero masculino OU que tenham idade <= 20\n",
    "arquivo.loc[(arquivo.Sex == 'male') | (arquivo.Age <= 30)]"
   ]
  },
  {
   "cell_type": "code",
   "execution_count": null,
   "id": "c4fd2fd0-95bd-427b-b72b-c0d12b3a1d4c",
   "metadata": {},
   "outputs": [],
   "source": [
    "#Selecionando passageiros que embarcaram em C e Q\n",
    "arquivo.loc[arquivo.Embarked.isin(['C', 'Q'])]"
   ]
  },
  {
   "cell_type": "code",
   "execution_count": null,
   "id": "eea5df13-8841-4c93-bd7e-2e9465c89602",
   "metadata": {},
   "outputs": [],
   "source": [
    "#Visualizando registros com dados de idade vazio\n",
    "arquivo.loc[arquivo.Age.isnull()]"
   ]
  },
  {
   "cell_type": "code",
   "execution_count": null,
   "id": "b2fcf52b-267a-41c6-8cbd-04411437c799",
   "metadata": {},
   "outputs": [],
   "source": [
    "#Visualizando registros com dados de idade não nulos\n",
    "arquivo.loc[arquivo.Age.notnull()]"
   ]
  },
  {
   "cell_type": "code",
   "execution_count": null,
   "id": "99aeea7d-aab1-46bf-b879-6982ad86de60",
   "metadata": {},
   "outputs": [],
   "source": [
    "#Agregando um valor constante a uma coluna\n",
    "arquivo2 = pd.read_csv(r'C:\\Users\\marco\\Projetos\\Python\\Titanic challenge\\train.csv', sep = ',')\n",
    "arquivo2['Sex'] = 'Não mencionado'\n",
    "arquivo2.iloc[:, 3:5].head()"
   ]
  },
  {
   "cell_type": "code",
   "execution_count": null,
   "id": "9cd22288-60f2-4c84-9ac2-5c3978c39c21",
   "metadata": {},
   "outputs": [],
   "source": [
    "#Agregando valores por meio de iteração\n",
    "arquivo2['PassengerId'] = range(len(arquivo2), 0, -1)\n",
    "arquivo2"
   ]
  },
  {
   "cell_type": "markdown",
   "id": "1260be77-5435-4185-841d-e1af50f33c67",
   "metadata": {},
   "source": [
    "# Summary functions e Maps"
   ]
  },
  {
   "cell_type": "markdown",
   "id": "97c16174-e282-4256-9fb2-bcba68de696f",
   "metadata": {},
   "source": [
    "### Summary functions"
   ]
  },
  {
   "cell_type": "code",
   "execution_count": null,
   "id": "72bc0ff9-e3b8-4c8c-9381-1381ce02d5c9",
   "metadata": {},
   "outputs": [],
   "source": [
    "#Método describe para numéricos\n",
    "arquivo.Age.describe()"
   ]
  },
  {
   "cell_type": "code",
   "execution_count": null,
   "id": "df1cfa8f-4b48-4717-b0b8-548976b28bfa",
   "metadata": {},
   "outputs": [],
   "source": [
    "#Describe para strings\n",
    "arquivo.Sex.describe()"
   ]
  },
  {
   "cell_type": "code",
   "execution_count": null,
   "id": "e24b43de-6cf2-48ce-89f0-7199262e7a46",
   "metadata": {},
   "outputs": [],
   "source": [
    "#Método mean\n",
    "arquivo.Age.mean()"
   ]
  },
  {
   "cell_type": "code",
   "execution_count": null,
   "id": "0888596b-689d-44f5-bac5-ce82adbce5e8",
   "metadata": {},
   "outputs": [],
   "source": [
    "#Método .unique()\n",
    "arquivo.Sex.unique()"
   ]
  },
  {
   "cell_type": "code",
   "execution_count": null,
   "id": "cdec09b3-d215-4cac-909d-79cb2d412fc9",
   "metadata": {},
   "outputs": [],
   "source": [
    "#Método .value_counts()\n",
    "arquivo.Sex.value_counts()"
   ]
  },
  {
   "cell_type": "markdown",
   "id": "1349621b-1df4-4dfc-82d7-6455bdd644d4",
   "metadata": {},
   "source": [
    "### Maps"
   ]
  },
  {
   "cell_type": "code",
   "execution_count": null,
   "id": "d5ae86a1-9e91-4b33-af36-3d8bc5a01d61",
   "metadata": {},
   "outputs": [],
   "source": [
    "#Método .map()\n",
    "idade_media = arquivo.Age.mean()\n",
    "arquivo.Age.map(lambda x: x - idade_media)"
   ]
  },
  {
   "cell_type": "code",
   "execution_count": null,
   "id": "e9ae9fce-4797-4812-a02b-f60104c88c97",
   "metadata": {},
   "outputs": [],
   "source": [
    "#Diferença simples\n",
    "idade_media = arquivo.Age.mean()\n",
    "arquivo.Age - idade_media"
   ]
  },
  {
   "cell_type": "code",
   "execution_count": null,
   "id": "c0f677d5-36ba-43cb-8ab4-a9257d816031",
   "metadata": {},
   "outputs": [],
   "source": [
    "#AJuntando duas colunas no formato string\n",
    "arquivo.Name + ' Embarcou na região ' + arquivo.Embarked"
   ]
  },
  {
   "cell_type": "code",
   "execution_count": null,
   "id": "7b72c810-8e3f-4bb4-b16b-9018c9ba91ea",
   "metadata": {},
   "outputs": [],
   "source": [
    "#Método .apply()\n",
    "def media(x):\n",
    "    x.Age = x.Age - arquivo.Age.mean()\n",
    "    return x\n",
    "arquivo.apply(media, axis = 'columns')"
   ]
  },
  {
   "cell_type": "markdown",
   "id": "6e4251da-805c-4678-96b1-d68eea9ebd9b",
   "metadata": {},
   "source": [
    "# Agrupando e ordenando"
   ]
  },
  {
   "cell_type": "markdown",
   "id": "41ce6e41-ee87-40c0-9251-4a68b2a62099",
   "metadata": {},
   "source": [
    "### Análise de grupos"
   ]
  },
  {
   "cell_type": "code",
   "execution_count": null,
   "id": "06068b8a-8392-459e-8831-57b9ed72ff10",
   "metadata": {},
   "outputs": [],
   "source": [
    "#Método .gorupby() e count()\n",
    "arquivo.groupby('Sex').Sex.count()"
   ]
  },
  {
   "cell_type": "code",
   "execution_count": null,
   "id": "c9eb99a7-0a9f-4e3d-a58f-1a22ff44fcd3",
   "metadata": {},
   "outputs": [],
   "source": [
    "#Método .gorupby() e max()\n",
    "arquivo.groupby('Sex').Age.max()"
   ]
  },
  {
   "cell_type": "code",
   "execution_count": null,
   "id": "663fd178-987e-4177-91e3-689248ba4764",
   "metadata": {},
   "outputs": [],
   "source": [
    "#Método .gorupby() e apply()\n",
    "arquivo.groupby(['Sex', 'Survived']).apply(lambda x: x.loc[x.Age.idxmax()])"
   ]
  },
  {
   "cell_type": "code",
   "execution_count": null,
   "id": "c91f9b4e-a1c2-4c9c-a436-c8f7935613d9",
   "metadata": {},
   "outputs": [],
   "source": [
    "#Group by + .agg()\n",
    "arquivo.groupby('Sex').Age.agg([len, min, max])"
   ]
  },
  {
   "cell_type": "code",
   "execution_count": null,
   "id": "bb8483f2-3ea1-4f7c-9713-57fbb5e1bc77",
   "metadata": {},
   "outputs": [],
   "source": [
    "#Multi-index\n",
    "arquivo.groupby(['Sex','Embarked']).Age.agg([len, min, max])"
   ]
  },
  {
   "cell_type": "markdown",
   "id": "be4a98d5-62aa-4105-a7bc-4a6aeabc18a8",
   "metadata": {},
   "source": [
    "### Ordenando"
   ]
  },
  {
   "cell_type": "code",
   "execution_count": null,
   "id": "7dc54846-368c-4a7a-8461-989869648bfd",
   "metadata": {},
   "outputs": [],
   "source": [
    "#Ordenando por sort_values() de forma crescente\n",
    "x = arquivo.groupby(['Sex','Embarked']).Age.agg([len, min, max])\n",
    "x.sort_values(by = 'len')"
   ]
  },
  {
   "cell_type": "code",
   "execution_count": null,
   "id": "4af69ca4-1396-4f5b-9e55-a06cbe74d478",
   "metadata": {},
   "outputs": [],
   "source": [
    "#Ordenando por sort_values() de forma decrescente\n",
    "x = arquivo.groupby(['Sex','Embarked']).Age.agg([len, min, max])\n",
    "x.sort_values(by = 'len', ascending = False)"
   ]
  },
  {
   "cell_type": "code",
   "execution_count": null,
   "id": "5ac2a42c-42cb-4359-a485-d23fd5ae11bc",
   "metadata": {},
   "outputs": [],
   "source": [
    "#Ordenando por mais de uma coluna por vez\n",
    "x = arquivo.groupby(['Sex','Embarked']).Age.agg([len, min, max])\n",
    "x.sort_values(by = ['Sex', 'Embarked'])"
   ]
  },
  {
   "cell_type": "markdown",
   "id": "fd513417-74e7-4a40-a539-767233a1735b",
   "metadata": {},
   "source": [
    "# Tipo de dado e valores faltantes"
   ]
  },
  {
   "cell_type": "markdown",
   "id": "facc4436-eec2-4c38-9ac2-20cd2fa6a01d",
   "metadata": {},
   "source": [
    "### Dtypes"
   ]
  },
  {
   "cell_type": "code",
   "execution_count": null,
   "id": "b79ea996-8497-4340-8417-49d189417ef5",
   "metadata": {},
   "outputs": [],
   "source": [
    "#Identificando o tipo de dado com .dtype\n",
    "arquivo.Age.dtype"
   ]
  },
  {
   "cell_type": "code",
   "execution_count": null,
   "id": "dda76973-a0c4-4dd6-bac7-7c7f6cd0ceed",
   "metadata": {},
   "outputs": [],
   "source": [
    "#Identificando o tipo de todas as colunas com dtypes\n",
    "arquivo.dtypes"
   ]
  },
  {
   "cell_type": "code",
   "execution_count": null,
   "id": "cbebc3a2-9616-48b1-998d-2d2b6176b326",
   "metadata": {},
   "outputs": [],
   "source": [
    "#Alterando o tipo do dado com .astype()\n",
    "arquivo.PassengerId.astype('float')"
   ]
  },
  {
   "cell_type": "markdown",
   "id": "cdeba985-e5e6-45d5-a910-e56c4a633aaa",
   "metadata": {},
   "source": [
    "### Valores faltantes"
   ]
  },
  {
   "cell_type": "code",
   "execution_count": null,
   "id": "27068254-aab2-4f06-a9ed-e1bc19e7bad5",
   "metadata": {},
   "outputs": [],
   "source": [
    "#Encontrando valores nulos\n",
    "arquivo[pd.isnull(arquivo.Age)]"
   ]
  },
  {
   "cell_type": "code",
   "execution_count": null,
   "id": "0ff27942-ba59-43ad-8d84-6504fe38a007",
   "metadata": {},
   "outputs": [],
   "source": [
    "#Substituindo valores nulos\n",
    "arquivo.Age.fillna(arquivo['Age'].mode(), inplace = True)\n",
    "arquivo.Age.describe()"
   ]
  },
  {
   "cell_type": "code",
   "execution_count": null,
   "id": "8a68c7c5-1386-43fa-ac3c-c8b48e06a3b2",
   "metadata": {},
   "outputs": [],
   "source": [
    "#Substituindo valores nulos\n",
    "arquivo.Cabin.fillna('Desconhecido')"
   ]
  },
  {
   "cell_type": "code",
   "execution_count": null,
   "id": "d3390baa-53c7-4f79-a976-f183566756ce",
   "metadata": {},
   "outputs": [],
   "source": [
    "#Substituindo valores específicos com o métdo .replace()\n",
    "arquivo['Sex'].replace(['male', 'female'], ['M', 'F'], inplace= True)\n",
    "arquivo.head()"
   ]
  },
  {
   "cell_type": "markdown",
   "id": "ad45b384-ec9b-453d-bf7b-c75fb754d7ca",
   "metadata": {},
   "source": [
    "# Renomeando e combinando"
   ]
  },
  {
   "cell_type": "markdown",
   "id": "0fe2fea5-1dd3-4869-ba65-bd7d271c62f2",
   "metadata": {},
   "source": [
    "### Renomenado"
   ]
  },
  {
   "cell_type": "code",
   "execution_count": null,
   "id": "614eb987-e5fa-4815-b7c7-107d79d77453",
   "metadata": {},
   "outputs": [],
   "source": [
    "#Renomeando uma coluna\n",
    "arquivo.rename(columns={'Sex' : 'Gender'}). head()"
   ]
  },
  {
   "cell_type": "code",
   "execution_count": null,
   "id": "e7d93c02-8960-4378-bdf2-4e93dea1b592",
   "metadata": {},
   "outputs": [],
   "source": [
    "#Renomeando uma coluna\n",
    "arquivo2.rename(index={0 : '1º', 1 : '2º', 2 : '3º'}, inplace= True)"
   ]
  },
  {
   "cell_type": "code",
   "execution_count": null,
   "id": "f0e9f652-57cc-4261-8918-f805dfadfdc5",
   "metadata": {},
   "outputs": [],
   "source": [
    "#Renomeando o index\n",
    "arquivo2.rename_axis('index', axis = 'columns').head()"
   ]
  },
  {
   "cell_type": "markdown",
   "id": "3d8b1dea-05d3-4451-9115-e73ef8ebdda1",
   "metadata": {},
   "source": [
    "### Combinando"
   ]
  },
  {
   "cell_type": "code",
   "execution_count": null,
   "id": "6f05402e-3f64-463d-afa0-bfaaf014f6f2",
   "metadata": {},
   "outputs": [],
   "source": [
    "#Combinando com .concat()\n",
    "eletronicos_marca = pd.DataFrame({'Produto' : ['Computador', 'Celular', 'Tablet'],\n",
    "                                 'Marca' : ['Lenovo', 'Motorola', 'Apple']})\n",
    "\n",
    "perifericos_marca = pd.DataFrame({'Produto': ['Teclado', 'Mouse', 'Fone de Ouvido'],\n",
    "    'Marca': ['Logitech', 'Razer', 'Bose']})\n",
    "\n",
    "pd.concat([eletronicos_marca, perifericos_marca])"
   ]
  },
  {
   "cell_type": "code",
   "execution_count": null,
   "id": "db1da0a2-b0ac-4c1a-9ded-c61eeb09e704",
   "metadata": {},
   "outputs": [],
   "source": [
    "#Combinando com .join()\n",
    "eletronicos_marca.join(perifericos_marca, lsuffix= '_Eletrônicos', rsuffix='_Periféricos')\n"
   ]
  },
  {
   "cell_type": "code",
   "execution_count": null,
   "id": "3566f909-8253-4527-8618-9d8ef8b5886a",
   "metadata": {},
   "outputs": [],
   "source": []
  }
 ],
 "metadata": {
  "kernelspec": {
   "display_name": "Python 3 (ipykernel)",
   "language": "python",
   "name": "python3"
  },
  "language_info": {
   "codemirror_mode": {
    "name": "ipython",
    "version": 3
   },
   "file_extension": ".py",
   "mimetype": "text/x-python",
   "name": "python",
   "nbconvert_exporter": "python",
   "pygments_lexer": "ipython3",
   "version": "3.10.9"
  }
 },
 "nbformat": 4,
 "nbformat_minor": 5
}
