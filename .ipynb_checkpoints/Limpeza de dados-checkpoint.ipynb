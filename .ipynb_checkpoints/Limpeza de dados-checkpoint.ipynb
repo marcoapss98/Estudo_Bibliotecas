{
 "cells": [
  {
   "cell_type": "code",
   "execution_count": 1,
   "id": "c6f4eaec-35e1-4e8f-8be7-9ad17032a137",
   "metadata": {},
   "outputs": [],
   "source": [
    "import numpy as np\n",
    "import pandas as pd"
   ]
  },
  {
   "cell_type": "markdown",
   "id": "a4484851-66e0-4b56-91fb-fd9a52cf1ffa",
   "metadata": {},
   "source": [
    "# Primeiros passos"
   ]
  },
  {
   "cell_type": "markdown",
   "id": "ee6e827b-bbbc-4260-a1f0-0ae8c585cf68",
   "metadata": {},
   "source": [
    "## Importação dos dados"
   ]
  },
  {
   "cell_type": "code",
   "execution_count": null,
   "id": "f78d0cba-f687-4077-a0f7-8f3d5957648c",
   "metadata": {},
   "outputs": [],
   "source": [
    "dados = pd.read_csv("
   ]
  }
 ],
 "metadata": {
  "kernelspec": {
   "display_name": "Python 3 (ipykernel)",
   "language": "python",
   "name": "python3"
  },
  "language_info": {
   "codemirror_mode": {
    "name": "ipython",
    "version": 3
   },
   "file_extension": ".py",
   "mimetype": "text/x-python",
   "name": "python",
   "nbconvert_exporter": "python",
   "pygments_lexer": "ipython3",
   "version": "3.10.9"
  }
 },
 "nbformat": 4,
 "nbformat_minor": 5
}
